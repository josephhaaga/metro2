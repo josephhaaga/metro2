{
 "cells": [
  {
   "cell_type": "code",
   "execution_count": 6,
   "metadata": {
    "collapsed": true
   },
   "outputs": [],
   "source": [
    "import pandas as pd;\n",
    "import numpy as np;\n",
    "import json\n",
    "key = open(\"keys.py\").readline().replace(\"\\n\",\"\")"
   ]
  },
  {
   "cell_type": "code",
   "execution_count": 15,
   "metadata": {
    "collapsed": false
   },
   "outputs": [
    {
     "name": "stdout",
     "output_type": "stream",
     "text": [
      "{\"Lines\":[{\"LineCode\":\"BL\",\"DisplayName\":\"Blue\",\"StartStationCode\":\"J03\",\"EndStationCode\":\"G05\",\"InternalDestination1\":\"\",\"InternalDestination2\":\"\"},{\"LineCode\":\"GR\",\"DisplayName\":\"Green\",\"StartStationCode\":\"F11\",\"EndStationCode\":\"E10\",\"InternalDestination1\":\"\",\"InternalDestination2\":\"\"},{\"LineCode\":\"OR\",\"DisplayName\":\"Orange\",\"StartStationCode\":\"K08\",\"EndStationCode\":\"D13\",\"InternalDestination1\":\"\",\"InternalDestination2\":\"\"},{\"LineCode\":\"RD\",\"DisplayName\":\"Red\",\"StartStationCode\":\"A15\",\"EndStationCode\":\"B11\",\"InternalDestination1\":\"A11\",\"InternalDestination2\":\"B08\"},{\"LineCode\":\"SV\",\"DisplayName\":\"Silver\",\"StartStationCode\":\"N06\",\"EndStationCode\":\"G05\",\"InternalDestination1\":\"\",\"InternalDestination2\":\"\"},{\"LineCode\":\"YL\",\"DisplayName\":\"Yellow\",\"StartStationCode\":\"C15\",\"EndStationCode\":\"E06\",\"InternalDestination1\":\"E01\",\"InternalDestination2\":\"\"}]}\n"
     ]
    }
   ],
   "source": [
    "########### Python 3.2 #############\n",
    "import http.client, urllib.request, urllib.parse, urllib.error, base64\n",
    "\n",
    "headers = {\n",
    "    # Request headers\n",
    "    'api_key': key,\n",
    "}\n",
    "\n",
    "params = urllib.parse.urlencode({\n",
    "})\n",
    "\n",
    "try:\n",
    "    conn = http.client.HTTPSConnection('api.wmata.com')\n",
    "    conn.request(\"GET\", \"/Rail.svc/json/jLines?%s\" % params, \"{body}\", headers)\n",
    "    response = conn.getresponse()\n",
    "    data = response.read().decode('utf-8')\n",
    "    print(data)\n",
    "    conn.close()\n",
    "except Exception as e:\n",
    "    print(\"[Errno {0}] {1}\".format(e.errno, e.strerror))\n",
    "\n",
    "####################################"
   ]
  },
  {
   "cell_type": "code",
   "execution_count": 19,
   "metadata": {
    "collapsed": false,
    "scrolled": true
   },
   "outputs": [
    {
     "name": "stdout",
     "output_type": "stream",
     "text": [
      "{\n",
      "    \"Lines\": [\n",
      "        {\n",
      "            \"EndStationCode\": \"G05\",\n",
      "            \"LineCode\": \"BL\",\n",
      "            \"InternalDestination2\": \"\",\n",
      "            \"DisplayName\": \"Blue\",\n",
      "            \"InternalDestination1\": \"\",\n",
      "            \"StartStationCode\": \"J03\"\n",
      "        },\n",
      "        {\n",
      "            \"EndStationCode\": \"E10\",\n",
      "            \"LineCode\": \"GR\",\n",
      "            \"InternalDestination2\": \"\",\n",
      "            \"DisplayName\": \"Green\",\n",
      "            \"InternalDestination1\": \"\",\n",
      "            \"StartStationCode\": \"F11\"\n",
      "        },\n",
      "        {\n",
      "            \"EndStationCode\": \"D13\",\n",
      "            \"LineCode\": \"OR\",\n",
      "            \"InternalDestination2\": \"\",\n",
      "            \"DisplayName\": \"Orange\",\n",
      "            \"InternalDestination1\": \"\",\n",
      "            \"StartStationCode\": \"K08\"\n",
      "        },\n",
      "        {\n",
      "            \"EndStationCode\": \"B11\",\n",
      "            \"LineCode\": \"RD\",\n",
      "            \"InternalDestination2\": \"B08\",\n",
      "            \"DisplayName\": \"Red\",\n",
      "            \"InternalDestination1\": \"A11\",\n",
      "            \"StartStationCode\": \"A15\"\n",
      "        },\n",
      "        {\n",
      "            \"EndStationCode\": \"G05\",\n",
      "            \"LineCode\": \"SV\",\n",
      "            \"InternalDestination2\": \"\",\n",
      "            \"DisplayName\": \"Silver\",\n",
      "            \"InternalDestination1\": \"\",\n",
      "            \"StartStationCode\": \"N06\"\n",
      "        },\n",
      "        {\n",
      "            \"EndStationCode\": \"E06\",\n",
      "            \"LineCode\": \"YL\",\n",
      "            \"InternalDestination2\": \"\",\n",
      "            \"DisplayName\": \"Yellow\",\n",
      "            \"InternalDestination1\": \"E01\",\n",
      "            \"StartStationCode\": \"C15\"\n",
      "        }\n",
      "    ]\n",
      "}\n"
     ]
    }
   ],
   "source": [
    "result = json.loads(data)\n",
    "# print (json.dumps(result,indent=4))"
   ]
  },
  {
   "cell_type": "code",
   "execution_count": 34,
   "metadata": {
    "collapsed": false
   },
   "outputs": [
    {
     "name": "stdout",
     "output_type": "stream",
     "text": [
      "{\"Path\":[{\"LineCode\":\"BL\",\"StationCode\":\"J03\",\"StationName\":\"Franconia-Springfield\",\"SeqNum\":1,\"DistanceToPrev\":0},{\"LineCode\":\"BL\",\"StationCode\":\"J02\",\"StationName\":\"Van Dorn Street\",\"SeqNum\":2,\"DistanceToPrev\":18695},{\"LineCode\":\"BL\",\"StationCode\":\"C13\",\"StationName\":\"King St-Old Town\",\"SeqNum\":3,\"DistanceToPrev\":20246},{\"LineCode\":\"BL\",\"StationCode\":\"C12\",\"StationName\":\"Braddock Road\",\"SeqNum\":4,\"DistanceToPrev\":3453},{\"LineCode\":\"BL\",\"StationCode\":\"C10\",\"StationName\":\"Ronald Reagan Washington National Airport\",\"SeqNum\":5,\"DistanceToPrev\":16108},{\"LineCode\":\"BL\",\"StationCode\":\"C09\",\"StationName\":\"Crystal City\",\"SeqNum\":6,\"DistanceToPrev\":2939},{\"LineCode\":\"BL\",\"StationCode\":\"C08\",\"StationName\":\"Pentagon City\",\"SeqNum\":7,\"DistanceToPrev\":4068},{\"LineCode\":\"BL\",\"StationCode\":\"C07\",\"StationName\":\"Pentagon\",\"SeqNum\":8,\"DistanceToPrev\":3216},{\"LineCode\":\"BL\",\"StationCode\":\"C06\",\"StationName\":\"Arlington Cemetery\",\"SeqNum\":9,\"DistanceToPrev\":7057},{\"LineCode\":\"BL\",\"StationCode\":\"C05\",\"StationName\":\"Rosslyn\",\"SeqNum\":10,\"DistanceToPrev\":4936},{\"LineCode\":\"BL\",\"StationCode\":\"C04\",\"StationName\":\"Foggy Bottom-GWU\",\"SeqNum\":11,\"DistanceToPrev\":6993},{\"LineCode\":\"BL\",\"StationCode\":\"C03\",\"StationName\":\"Farragut West\",\"SeqNum\":12,\"DistanceToPrev\":2783},{\"LineCode\":\"BL\",\"StationCode\":\"C02\",\"StationName\":\"McPherson Square\",\"SeqNum\":13,\"DistanceToPrev\":2001},{\"LineCode\":\"BL\",\"StationCode\":\"C01\",\"StationName\":\"Metro Center\",\"SeqNum\":14,\"DistanceToPrev\":2359},{\"LineCode\":\"BL\",\"StationCode\":\"D01\",\"StationName\":\"Federal Triangle\",\"SeqNum\":15,\"DistanceToPrev\":1561},{\"LineCode\":\"BL\",\"StationCode\":\"D02\",\"StationName\":\"Smithsonian\",\"SeqNum\":16,\"DistanceToPrev\":2016},{\"LineCode\":\"BL\",\"StationCode\":\"D03\",\"StationName\":\"L'Enfant Plaza\",\"SeqNum\":17,\"DistanceToPrev\":2643},{\"LineCode\":\"BL\",\"StationCode\":\"D04\",\"StationName\":\"Federal Center SW\",\"SeqNum\":18,\"DistanceToPrev\":1757},{\"LineCode\":\"BL\",\"StationCode\":\"D05\",\"StationName\":\"Capitol South\",\"SeqNum\":19,\"DistanceToPrev\":3052},{\"LineCode\":\"BL\",\"StationCode\":\"D06\",\"StationName\":\"Eastern Market\",\"SeqNum\":20,\"DistanceToPrev\":2703},{\"LineCode\":\"BL\",\"StationCode\":\"D07\",\"StationName\":\"Potomac Ave\",\"SeqNum\":21,\"DistanceToPrev\":3289},{\"LineCode\":\"BL\",\"StationCode\":\"D08\",\"StationName\":\"Stadium-Armory\",\"SeqNum\":22,\"DistanceToPrev\":3750},{\"LineCode\":\"BL\",\"StationCode\":\"G01\",\"StationName\":\"Benning Road\",\"SeqNum\":23,\"DistanceToPrev\":13408},{\"LineCode\":\"BL\",\"StationCode\":\"G02\",\"StationName\":\"Capitol Heights\",\"SeqNum\":24,\"DistanceToPrev\":7779},{\"LineCode\":\"BL\",\"StationCode\":\"G03\",\"StationName\":\"Addison Road-Seat Pleasant\",\"SeqNum\":25,\"DistanceToPrev\":5215},{\"LineCode\":\"BL\",\"StationCode\":\"G04\",\"StationName\":\"Morgan Boulevard\",\"SeqNum\":26,\"DistanceToPrev\":8105},{\"LineCode\":\"BL\",\"StationCode\":\"G05\",\"StationName\":\"Largo Town Center\",\"SeqNum\":27,\"DistanceToPrev\":7256}]}\n",
      "{\"Path\":[{\"LineCode\":\"GR\",\"StationCode\":\"F11\",\"StationName\":\"Branch Ave\",\"SeqNum\":1,\"DistanceToPrev\":0},{\"LineCode\":\"GR\",\"StationCode\":\"F10\",\"StationName\":\"Suitland\",\"SeqNum\":2,\"DistanceToPrev\":9144},{\"LineCode\":\"GR\",\"StationCode\":\"F09\",\"StationName\":\"Naylor Road\",\"SeqNum\":3,\"DistanceToPrev\":7658},{\"LineCode\":\"GR\",\"StationCode\":\"F08\",\"StationName\":\"Southern Avenue\",\"SeqNum\":4,\"DistanceToPrev\":6612},{\"LineCode\":\"GR\",\"StationCode\":\"F07\",\"StationName\":\"Congress Heights\",\"SeqNum\":5,\"DistanceToPrev\":5508},{\"LineCode\":\"GR\",\"StationCode\":\"F06\",\"StationName\":\"Anacostia\",\"SeqNum\":6,\"DistanceToPrev\":6851},{\"LineCode\":\"GR\",\"StationCode\":\"F05\",\"StationName\":\"Navy Yard-Ballpark\",\"SeqNum\":7,\"DistanceToPrev\":6254},{\"LineCode\":\"GR\",\"StationCode\":\"F04\",\"StationName\":\"Waterfront\",\"SeqNum\":8,\"DistanceToPrev\":3326},{\"LineCode\":\"GR\",\"StationCode\":\"F03\",\"StationName\":\"L'Enfant Plaza\",\"SeqNum\":9,\"DistanceToPrev\":4158},{\"LineCode\":\"GR\",\"StationCode\":\"F02\",\"StationName\":\"Archives-Navy Memorial-Penn Quarter\",\"SeqNum\":10,\"DistanceToPrev\":2950},{\"LineCode\":\"GR\",\"StationCode\":\"F01\",\"StationName\":\"Gallery Pl-Chinatown\",\"SeqNum\":11,\"DistanceToPrev\":1879},{\"LineCode\":\"GR\",\"StationCode\":\"E01\",\"StationName\":\"Mt Vernon Sq 7th St-Convention Center\",\"SeqNum\":12,\"DistanceToPrev\":2985},{\"LineCode\":\"GR\",\"StationCode\":\"E02\",\"StationName\":\"Shaw-Howard U\",\"SeqNum\":13,\"DistanceToPrev\":2527},{\"LineCode\":\"GR\",\"StationCode\":\"E03\",\"StationName\":\"U Street/African-Amer Civil War Memorial/Cardozo\",\"SeqNum\":14,\"DistanceToPrev\":2555},{\"LineCode\":\"GR\",\"StationCode\":\"E04\",\"StationName\":\"Columbia Heights\",\"SeqNum\":15,\"DistanceToPrev\":4715},{\"LineCode\":\"GR\",\"StationCode\":\"E05\",\"StationName\":\"Georgia Ave-Petworth\",\"SeqNum\":16,\"DistanceToPrev\":4717},{\"LineCode\":\"GR\",\"StationCode\":\"E06\",\"StationName\":\"Fort Totten\",\"SeqNum\":17,\"DistanceToPrev\":8348},{\"LineCode\":\"GR\",\"StationCode\":\"E07\",\"StationName\":\"West Hyattsville\",\"SeqNum\":18,\"DistanceToPrev\":10406},{\"LineCode\":\"GR\",\"StationCode\":\"E08\",\"StationName\":\"Prince George's Plaza\",\"SeqNum\":19,\"DistanceToPrev\":6670},{\"LineCode\":\"GR\",\"StationCode\":\"E09\",\"StationName\":\"College Park-U of MD\",\"SeqNum\":20,\"DistanceToPrev\":10368},{\"LineCode\":\"GR\",\"StationCode\":\"E10\",\"StationName\":\"Greenbelt\",\"SeqNum\":21,\"DistanceToPrev\":12981}]}\n",
      "{\"Path\":[{\"LineCode\":\"OR\",\"StationCode\":\"K08\",\"StationName\":\"Vienna/Fairfax-GMU\",\"SeqNum\":1,\"DistanceToPrev\":0},{\"LineCode\":\"OR\",\"StationCode\":\"K07\",\"StationName\":\"Dunn Loring-Merrifield\",\"SeqNum\":2,\"DistanceToPrev\":13165},{\"LineCode\":\"OR\",\"StationCode\":\"K06\",\"StationName\":\"West Falls Church-VT/UVA\",\"SeqNum\":3,\"DistanceToPrev\":12638},{\"LineCode\":\"OR\",\"StationCode\":\"K05\",\"StationName\":\"East Falls Church\",\"SeqNum\":4,\"DistanceToPrev\":10918},{\"LineCode\":\"OR\",\"StationCode\":\"K04\",\"StationName\":\"Ballston-MU\",\"SeqNum\":5,\"DistanceToPrev\":13156},{\"LineCode\":\"OR\",\"StationCode\":\"K03\",\"StationName\":\"Virginia Square-GMU\",\"SeqNum\":6,\"DistanceToPrev\":2980},{\"LineCode\":\"OR\",\"StationCode\":\"K02\",\"StationName\":\"Clarendon\",\"SeqNum\":7,\"DistanceToPrev\":2473},{\"LineCode\":\"OR\",\"StationCode\":\"K01\",\"StationName\":\"Court House\",\"SeqNum\":8,\"DistanceToPrev\":2687},{\"LineCode\":\"OR\",\"StationCode\":\"C05\",\"StationName\":\"Rosslyn\",\"SeqNum\":9,\"DistanceToPrev\":5807},{\"LineCode\":\"OR\",\"StationCode\":\"C04\",\"StationName\":\"Foggy Bottom-GWU\",\"SeqNum\":10,\"DistanceToPrev\":6993},{\"LineCode\":\"OR\",\"StationCode\":\"C03\",\"StationName\":\"Farragut West\",\"SeqNum\":11,\"DistanceToPrev\":2783},{\"LineCode\":\"OR\",\"StationCode\":\"C02\",\"StationName\":\"McPherson Square\",\"SeqNum\":12,\"DistanceToPrev\":2001},{\"LineCode\":\"OR\",\"StationCode\":\"C01\",\"StationName\":\"Metro Center\",\"SeqNum\":13,\"DistanceToPrev\":2359},{\"LineCode\":\"OR\",\"StationCode\":\"D01\",\"StationName\":\"Federal Triangle\",\"SeqNum\":14,\"DistanceToPrev\":1561},{\"LineCode\":\"OR\",\"StationCode\":\"D02\",\"StationName\":\"Smithsonian\",\"SeqNum\":15,\"DistanceToPrev\":2016},{\"LineCode\":\"OR\",\"StationCode\":\"D03\",\"StationName\":\"L'Enfant Plaza\",\"SeqNum\":16,\"DistanceToPrev\":2643},{\"LineCode\":\"OR\",\"StationCode\":\"D04\",\"StationName\":\"Federal Center SW\",\"SeqNum\":17,\"DistanceToPrev\":1757},{\"LineCode\":\"OR\",\"StationCode\":\"D05\",\"StationName\":\"Capitol South\",\"SeqNum\":18,\"DistanceToPrev\":3052},{\"LineCode\":\"OR\",\"StationCode\":\"D06\",\"StationName\":\"Eastern Market\",\"SeqNum\":19,\"DistanceToPrev\":2703},{\"LineCode\":\"OR\",\"StationCode\":\"D07\",\"StationName\":\"Potomac Ave\",\"SeqNum\":20,\"DistanceToPrev\":3289},{\"LineCode\":\"OR\",\"StationCode\":\"D08\",\"StationName\":\"Stadium-Armory\",\"SeqNum\":21,\"DistanceToPrev\":3750},{\"LineCode\":\"OR\",\"StationCode\":\"D09\",\"StationName\":\"Minnesota Ave\",\"SeqNum\":22,\"DistanceToPrev\":11080},{\"LineCode\":\"OR\",\"StationCode\":\"D10\",\"StationName\":\"Deanwood\",\"SeqNum\":23,\"DistanceToPrev\":4723},{\"LineCode\":\"OR\",\"StationCode\":\"D11\",\"StationName\":\"Cheverly\",\"SeqNum\":24,\"DistanceToPrev\":6149},{\"LineCode\":\"OR\",\"StationCode\":\"D12\",\"StationName\":\"Landover\",\"SeqNum\":25,\"DistanceToPrev\":9665},{\"LineCode\":\"OR\",\"StationCode\":\"D13\",\"StationName\":\"New Carrollton\",\"SeqNum\":26,\"DistanceToPrev\":7655}]}\n",
      "{\"Path\":[{\"LineCode\":\"RD\",\"StationCode\":\"A15\",\"StationName\":\"Shady Grove\",\"SeqNum\":1,\"DistanceToPrev\":0},{\"LineCode\":\"RD\",\"StationCode\":\"A14\",\"StationName\":\"Rockville\",\"SeqNum\":2,\"DistanceToPrev\":14151},{\"LineCode\":\"RD\",\"StationCode\":\"A13\",\"StationName\":\"Twinbrook\",\"SeqNum\":3,\"DistanceToPrev\":10586},{\"LineCode\":\"RD\",\"StationCode\":\"A12\",\"StationName\":\"White Flint\",\"SeqNum\":4,\"DistanceToPrev\":5895},{\"LineCode\":\"RD\",\"StationCode\":\"A11\",\"StationName\":\"Grosvenor-Strathmore\",\"SeqNum\":5,\"DistanceToPrev\":7309},{\"LineCode\":\"RD\",\"StationCode\":\"A10\",\"StationName\":\"Medical Center\",\"SeqNum\":6,\"DistanceToPrev\":11821},{\"LineCode\":\"RD\",\"StationCode\":\"A09\",\"StationName\":\"Bethesda\",\"SeqNum\":7,\"DistanceToPrev\":5530},{\"LineCode\":\"RD\",\"StationCode\":\"A08\",\"StationName\":\"Friendship Heights\",\"SeqNum\":8,\"DistanceToPrev\":9095},{\"LineCode\":\"RD\",\"StationCode\":\"A07\",\"StationName\":\"Tenleytown-AU\",\"SeqNum\":9,\"DistanceToPrev\":4135},{\"LineCode\":\"RD\",\"StationCode\":\"A06\",\"StationName\":\"Van Ness-UDC\",\"SeqNum\":10,\"DistanceToPrev\":5841},{\"LineCode\":\"RD\",\"StationCode\":\"A05\",\"StationName\":\"Cleveland Park\",\"SeqNum\":11,\"DistanceToPrev\":3320},{\"LineCode\":\"RD\",\"StationCode\":\"A04\",\"StationName\":\"Woodley Park-Zoo/Adams Morgan\",\"SeqNum\":12,\"DistanceToPrev\":3740},{\"LineCode\":\"RD\",\"StationCode\":\"A03\",\"StationName\":\"Dupont Circle\",\"SeqNum\":13,\"DistanceToPrev\":6304},{\"LineCode\":\"RD\",\"StationCode\":\"A02\",\"StationName\":\"Farragut North\",\"SeqNum\":14,\"DistanceToPrev\":2711},{\"LineCode\":\"RD\",\"StationCode\":\"A01\",\"StationName\":\"Metro Center\",\"SeqNum\":15,\"DistanceToPrev\":4178},{\"LineCode\":\"RD\",\"StationCode\":\"B01\",\"StationName\":\"Gallery Pl-Chinatown\",\"SeqNum\":16,\"DistanceToPrev\":1505},{\"LineCode\":\"RD\",\"StationCode\":\"B02\",\"StationName\":\"Judiciary Square\",\"SeqNum\":17,\"DistanceToPrev\":1875},{\"LineCode\":\"RD\",\"StationCode\":\"B03\",\"StationName\":\"Union Station\",\"SeqNum\":18,\"DistanceToPrev\":3446},{\"LineCode\":\"RD\",\"StationCode\":\"B35\",\"StationName\":\"NoMa-Gallaudet U\",\"SeqNum\":19,\"DistanceToPrev\":3553},{\"LineCode\":\"RD\",\"StationCode\":\"B04\",\"StationName\":\"Rhode Island Ave-Brentwood\",\"SeqNum\":20,\"DistanceToPrev\":5771},{\"LineCode\":\"RD\",\"StationCode\":\"B05\",\"StationName\":\"Brookland-CUA\",\"SeqNum\":21,\"DistanceToPrev\":4461},{\"LineCode\":\"RD\",\"StationCode\":\"B06\",\"StationName\":\"Fort Totten\",\"SeqNum\":22,\"DistanceToPrev\":7146},{\"LineCode\":\"RD\",\"StationCode\":\"B07\",\"StationName\":\"Takoma\",\"SeqNum\":23,\"DistanceToPrev\":10026},{\"LineCode\":\"RD\",\"StationCode\":\"B08\",\"StationName\":\"Silver Spring\",\"SeqNum\":24,\"DistanceToPrev\":7483},{\"LineCode\":\"RD\",\"StationCode\":\"B09\",\"StationName\":\"Forest Glen\",\"SeqNum\":25,\"DistanceToPrev\":8859},{\"LineCode\":\"RD\",\"StationCode\":\"B10\",\"StationName\":\"Wheaton\",\"SeqNum\":26,\"DistanceToPrev\":8484},{\"LineCode\":\"RD\",\"StationCode\":\"B11\",\"StationName\":\"Glenmont\",\"SeqNum\":27,\"DistanceToPrev\":9334}]}\n",
      "{\"Path\":[{\"LineCode\":\"SV\",\"StationCode\":\"N06\",\"StationName\":\"Wiehle-Reston East\",\"SeqNum\":1,\"DistanceToPrev\":0},{\"LineCode\":\"SV\",\"StationCode\":\"N04\",\"StationName\":\"Spring Hill\",\"SeqNum\":2,\"DistanceToPrev\":30858},{\"LineCode\":\"SV\",\"StationCode\":\"N03\",\"StationName\":\"Greensboro\",\"SeqNum\":3,\"DistanceToPrev\":4022},{\"LineCode\":\"SV\",\"StationCode\":\"N02\",\"StationName\":\"Tysons Corner\",\"SeqNum\":4,\"DistanceToPrev\":3945},{\"LineCode\":\"SV\",\"StationCode\":\"N01\",\"StationName\":\"McLean\",\"SeqNum\":5,\"DistanceToPrev\":3454},{\"LineCode\":\"SV\",\"StationCode\":\"K05\",\"StationName\":\"East Falls Church\",\"SeqNum\":6,\"DistanceToPrev\":24558},{\"LineCode\":\"SV\",\"StationCode\":\"K04\",\"StationName\":\"Ballston-MU\",\"SeqNum\":7,\"DistanceToPrev\":13156},{\"LineCode\":\"SV\",\"StationCode\":\"K03\",\"StationName\":\"Virginia Square-GMU\",\"SeqNum\":8,\"DistanceToPrev\":2980},{\"LineCode\":\"SV\",\"StationCode\":\"K02\",\"StationName\":\"Clarendon\",\"SeqNum\":9,\"DistanceToPrev\":2473},{\"LineCode\":\"SV\",\"StationCode\":\"K01\",\"StationName\":\"Court House\",\"SeqNum\":10,\"DistanceToPrev\":2687},{\"LineCode\":\"SV\",\"StationCode\":\"C05\",\"StationName\":\"Rosslyn\",\"SeqNum\":11,\"DistanceToPrev\":5807},{\"LineCode\":\"SV\",\"StationCode\":\"C04\",\"StationName\":\"Foggy Bottom-GWU\",\"SeqNum\":12,\"DistanceToPrev\":6993},{\"LineCode\":\"SV\",\"StationCode\":\"C03\",\"StationName\":\"Farragut West\",\"SeqNum\":13,\"DistanceToPrev\":2783},{\"LineCode\":\"SV\",\"StationCode\":\"C02\",\"StationName\":\"McPherson Square\",\"SeqNum\":14,\"DistanceToPrev\":2001},{\"LineCode\":\"SV\",\"StationCode\":\"C01\",\"StationName\":\"Metro Center\",\"SeqNum\":15,\"DistanceToPrev\":2359},{\"LineCode\":\"SV\",\"StationCode\":\"D01\",\"StationName\":\"Federal Triangle\",\"SeqNum\":16,\"DistanceToPrev\":1561},{\"LineCode\":\"SV\",\"StationCode\":\"D02\",\"StationName\":\"Smithsonian\",\"SeqNum\":17,\"DistanceToPrev\":2016},{\"LineCode\":\"SV\",\"StationCode\":\"D03\",\"StationName\":\"L'Enfant Plaza\",\"SeqNum\":18,\"DistanceToPrev\":2643},{\"LineCode\":\"SV\",\"StationCode\":\"D04\",\"StationName\":\"Federal Center SW\",\"SeqNum\":19,\"DistanceToPrev\":1757},{\"LineCode\":\"SV\",\"StationCode\":\"D05\",\"StationName\":\"Capitol South\",\"SeqNum\":20,\"DistanceToPrev\":3052},{\"LineCode\":\"SV\",\"StationCode\":\"D06\",\"StationName\":\"Eastern Market\",\"SeqNum\":21,\"DistanceToPrev\":2703},{\"LineCode\":\"SV\",\"StationCode\":\"D07\",\"StationName\":\"Potomac Ave\",\"SeqNum\":22,\"DistanceToPrev\":3289},{\"LineCode\":\"SV\",\"StationCode\":\"D08\",\"StationName\":\"Stadium-Armory\",\"SeqNum\":23,\"DistanceToPrev\":3750},{\"LineCode\":\"SV\",\"StationCode\":\"G01\",\"StationName\":\"Benning Road\",\"SeqNum\":24,\"DistanceToPrev\":13408},{\"LineCode\":\"SV\",\"StationCode\":\"G02\",\"StationName\":\"Capitol Heights\",\"SeqNum\":25,\"DistanceToPrev\":7779},{\"LineCode\":\"SV\",\"StationCode\":\"G03\",\"StationName\":\"Addison Road-Seat Pleasant\",\"SeqNum\":26,\"DistanceToPrev\":5215},{\"LineCode\":\"SV\",\"StationCode\":\"G04\",\"StationName\":\"Morgan Boulevard\",\"SeqNum\":27,\"DistanceToPrev\":8105},{\"LineCode\":\"SV\",\"StationCode\":\"G05\",\"StationName\":\"Largo Town Center\",\"SeqNum\":28,\"DistanceToPrev\":7256}]}\n",
      "{\"Path\":[{\"LineCode\":\"YL\",\"StationCode\":\"C15\",\"StationName\":\"Huntington\",\"SeqNum\":1,\"DistanceToPrev\":0},{\"LineCode\":\"YL\",\"StationCode\":\"C14\",\"StationName\":\"Eisenhower Avenue\",\"SeqNum\":2,\"DistanceToPrev\":2770},{\"LineCode\":\"YL\",\"StationCode\":\"C13\",\"StationName\":\"King St-Old Town\",\"SeqNum\":3,\"DistanceToPrev\":3734},{\"LineCode\":\"YL\",\"StationCode\":\"C12\",\"StationName\":\"Braddock Road\",\"SeqNum\":4,\"DistanceToPrev\":3453},{\"LineCode\":\"YL\",\"StationCode\":\"C10\",\"StationName\":\"Ronald Reagan Washington National Airport\",\"SeqNum\":5,\"DistanceToPrev\":16108},{\"LineCode\":\"YL\",\"StationCode\":\"C09\",\"StationName\":\"Crystal City\",\"SeqNum\":6,\"DistanceToPrev\":2939},{\"LineCode\":\"YL\",\"StationCode\":\"C08\",\"StationName\":\"Pentagon City\",\"SeqNum\":7,\"DistanceToPrev\":4068},{\"LineCode\":\"YL\",\"StationCode\":\"C07\",\"StationName\":\"Pentagon\",\"SeqNum\":8,\"DistanceToPrev\":3216},{\"LineCode\":\"YL\",\"StationCode\":\"F03\",\"StationName\":\"L'Enfant Plaza\",\"SeqNum\":9,\"DistanceToPrev\":12356},{\"LineCode\":\"YL\",\"StationCode\":\"F02\",\"StationName\":\"Archives-Navy Memorial-Penn Quarter\",\"SeqNum\":10,\"DistanceToPrev\":2950},{\"LineCode\":\"YL\",\"StationCode\":\"F01\",\"StationName\":\"Gallery Pl-Chinatown\",\"SeqNum\":11,\"DistanceToPrev\":1879},{\"LineCode\":\"YL\",\"StationCode\":\"E01\",\"StationName\":\"Mt Vernon Sq 7th St-Convention Center\",\"SeqNum\":12,\"DistanceToPrev\":2985},{\"LineCode\":\"YL\",\"StationCode\":\"E02\",\"StationName\":\"Shaw-Howard U\",\"SeqNum\":13,\"DistanceToPrev\":2527},{\"LineCode\":\"YL\",\"StationCode\":\"E03\",\"StationName\":\"U Street/African-Amer Civil War Memorial/Cardozo\",\"SeqNum\":14,\"DistanceToPrev\":2555},{\"LineCode\":\"YL\",\"StationCode\":\"E04\",\"StationName\":\"Columbia Heights\",\"SeqNum\":15,\"DistanceToPrev\":4715},{\"LineCode\":\"YL\",\"StationCode\":\"E05\",\"StationName\":\"Georgia Ave-Petworth\",\"SeqNum\":16,\"DistanceToPrev\":4717},{\"LineCode\":\"YL\",\"StationCode\":\"E06\",\"StationName\":\"Fort Totten\",\"SeqNum\":17,\"DistanceToPrev\":8348}]}\n"
     ]
    }
   ],
   "source": [
    "paths = {}\n",
    "master_paths = pd.DataFrame();\n",
    "for i in result['Lines']:\n",
    "    params = urllib.parse.urlencode({\n",
    "        # Request parameters\n",
    "        'FromStationCode': i['StartStationCode'],\n",
    "        'ToStationCode': i['EndStationCode'],\n",
    "    })\n",
    "\n",
    "    try:\n",
    "        conn = http.client.HTTPSConnection('api.wmata.com')\n",
    "        conn.request(\"GET\", \"/Rail.svc/json/jPath?%s\" % params, \"{body}\", headers)\n",
    "        response = conn.getresponse()\n",
    "        data = response.read().decode('utf-8')\n",
    "        print(data)\n",
    "        conn.close()\n",
    "    except Exception as e:\n",
    "        print(\"[Errno {0}] {1}\".format(e.errno, e.strerror))\n",
    "\n",
    "    ####################################\n",
    "    paths[i['DisplayName']] = pd.DataFrame(json.loads(data)['Path'])\n",
    "    master_paths.append(json.loads(data)['Path'])"
   ]
  },
  {
   "cell_type": "code",
   "execution_count": 74,
   "metadata": {
    "collapsed": false
   },
   "outputs": [],
   "source": [
    "station_names = []\n",
    "paths.keys()\n",
    "for line in paths.keys():\n",
    "    for station in paths[line]['StationName']:\n",
    "        station_names.append(station);\n",
    "    "
   ]
  },
  {
   "cell_type": "code",
   "execution_count": 79,
   "metadata": {
    "collapsed": false
   },
   "outputs": [
    {
     "data": {
      "text/plain": [
       "4"
      ]
     },
     "execution_count": 79,
     "metadata": {},
     "output_type": "execute_result"
    }
   ],
   "source": [
    "station_names.count(\"Metro Center\")"
   ]
  },
  {
   "cell_type": "code",
   "execution_count": 152,
   "metadata": {
    "collapsed": false
   },
   "outputs": [],
   "source": [
    "def findLines(station):\n",
    "    stations = [];\n",
    "    for line in paths.keys():\n",
    "        for stat in paths[line]['StationName']:\n",
    "            if stat==station:\n",
    "                stat_color = paths[line][paths[line]['StationName']==stat]['LineCode'];\n",
    "                index = str(stat_color).index(\"    \")+4;\n",
    "#                 print (str(stat_color)[index:index+2])\n",
    "                stations.append((str(stat_color)[index:index+2]))\n",
    "    return stations;"
   ]
  },
  {
   "cell_type": "code",
   "execution_count": 155,
   "metadata": {
    "collapsed": false
   },
   "outputs": [
    {
     "data": {
      "text/plain": [
       "['YL', 'BL']"
      ]
     },
     "execution_count": 155,
     "metadata": {},
     "output_type": "execute_result"
    }
   ],
   "source": [
    "# Which lines are destination on?\n",
    "destination = \"Braddock Road\";\n",
    "start = \"U Street/African-Amer Civil War Memorial/Cardozo\";\n",
    "findLines(destination)"
   ]
  },
  {
   "cell_type": "code",
   "execution_count": 157,
   "metadata": {
    "collapsed": false
   },
   "outputs": [
    {
     "data": {
      "text/plain": [
       "['YL', 'GR']"
      ]
     },
     "execution_count": 157,
     "metadata": {},
     "output_type": "execute_result"
    }
   ],
   "source": [
    "findLines(start)"
   ]
  },
  {
   "cell_type": "code",
   "execution_count": 175,
   "metadata": {
    "collapsed": false
   },
   "outputs": [
    {
     "data": {
      "text/plain": [
       "[13]"
      ]
     },
     "execution_count": 175,
     "metadata": {},
     "output_type": "execute_result"
    }
   ],
   "source": [
    "# Need adjacency matrix demonstrating which stations are on which lines\n",
    "# e.g. [X, 2, 1]\n",
    "#      [2, X, 0]\n",
    "#      [1, 0, X]\n",
    "\n",
    "# def constructAdjacencyMatrix():\n",
    "\n",
    "yellow_line = paths['Yellow']\n",
    "\n",
    "yellow_line[yellow_line['StationName']==start].index.tolist()\n",
    "    "
   ]
  },
  {
   "cell_type": "code",
   "execution_count": 176,
   "metadata": {
    "collapsed": false
   },
   "outputs": [
    {
     "data": {
      "text/plain": [
       "[3]"
      ]
     },
     "execution_count": 176,
     "metadata": {},
     "output_type": "execute_result"
    }
   ],
   "source": [
    "yellow_line[yellow_line['StationName']==destination].index.tolist()"
   ]
  },
  {
   "cell_type": "code",
   "execution_count": 188,
   "metadata": {
    "collapsed": false
   },
   "outputs": [
    {
     "data": {
      "text/plain": [
       "'McPherson Square'"
      ]
     },
     "execution_count": 188,
     "metadata": {},
     "output_type": "execute_result"
    }
   ],
   "source": [
    "station_names[56]"
   ]
  },
  {
   "cell_type": "code",
   "execution_count": 192,
   "metadata": {
    "collapsed": false
   },
   "outputs": [
    {
     "data": {
      "text/plain": [
       "['OR', 'SV', 'BL']"
      ]
     },
     "execution_count": 192,
     "metadata": {},
     "output_type": "execute_result"
    }
   ],
   "source": [
    "findLines(station_names[56])"
   ]
  },
  {
   "cell_type": "code",
   "execution_count": 197,
   "metadata": {
    "collapsed": true
   },
   "outputs": [],
   "source": [
    "shortcode_map = {\"RD\":\"Red\", \"YL\":\"Yellow\", \"BL\":\"Blue\", \"GR\":\"Green\", \"SV\":\"Silver\", \"OR\":\"Orange\"}"
   ]
  },
  {
   "cell_type": "code",
   "execution_count": 232,
   "metadata": {
    "collapsed": false
   },
   "outputs": [],
   "source": [
    "adj_matrix = {};\n",
    "\n",
    "for n in station_names:\n",
    "    current_station = {};\n",
    "    for k in findLines(n):\n",
    "        for z in paths[shortcode_map[k]]['StationName']:\n",
    "    #         Get distance from n to z via line k\n",
    "            indexOfZ = (paths[shortcode_map[k]][paths[shortcode_map[k]]['StationName']==z].index.tolist()[0])\n",
    "            indexOfN = (paths[shortcode_map[k]][paths[shortcode_map[k]]['StationName']==n].index.tolist()[0])\n",
    "            current_station[z]=abs(indexOfZ - indexOfN);\n",
    "    adj_matrix[n] = current_station"
   ]
  },
  {
   "cell_type": "code",
   "execution_count": 233,
   "metadata": {
    "collapsed": false
   },
   "outputs": [
    {
     "data": {
      "text/plain": [
       "{'Addison Road-Seat Pleasant': 15,\n",
       " 'Arlington Cemetery': 1,\n",
       " 'Ballston-MU': 4,\n",
       " 'Benning Road': 13,\n",
       " 'Braddock Road': 6,\n",
       " 'Capitol Heights': 14,\n",
       " 'Capitol South': 9,\n",
       " 'Cheverly': 15,\n",
       " 'Clarendon': 2,\n",
       " 'Court House': 1,\n",
       " 'Crystal City': 4,\n",
       " 'Deanwood': 14,\n",
       " 'Dunn Loring-Merrifield': 7,\n",
       " 'East Falls Church': 5,\n",
       " 'Eastern Market': 10,\n",
       " 'Farragut West': 2,\n",
       " 'Federal Center SW': 8,\n",
       " 'Federal Triangle': 5,\n",
       " 'Foggy Bottom-GWU': 1,\n",
       " 'Franconia-Springfield': 9,\n",
       " 'Greensboro': 8,\n",
       " 'King St-Old Town': 7,\n",
       " \"L'Enfant Plaza\": 7,\n",
       " 'Landover': 16,\n",
       " 'Largo Town Center': 17,\n",
       " 'McLean': 6,\n",
       " 'McPherson Square': 3,\n",
       " 'Metro Center': 4,\n",
       " 'Minnesota Ave': 13,\n",
       " 'Morgan Boulevard': 16,\n",
       " 'New Carrollton': 17,\n",
       " 'Pentagon': 2,\n",
       " 'Pentagon City': 3,\n",
       " 'Potomac Ave': 11,\n",
       " 'Ronald Reagan Washington National Airport': 5,\n",
       " 'Rosslyn': 0,\n",
       " 'Smithsonian': 6,\n",
       " 'Spring Hill': 9,\n",
       " 'Stadium-Armory': 12,\n",
       " 'Tysons Corner': 7,\n",
       " 'Van Dorn Street': 8,\n",
       " 'Vienna/Fairfax-GMU': 8,\n",
       " 'Virginia Square-GMU': 3,\n",
       " 'West Falls Church-VT/UVA': 6,\n",
       " 'Wiehle-Reston East': 10}"
      ]
     },
     "execution_count": 233,
     "metadata": {},
     "output_type": "execute_result"
    }
   ],
   "source": [
    "adj_matrix['Rosslyn']"
   ]
  },
  {
   "cell_type": "code",
   "execution_count": 216,
   "metadata": {
    "collapsed": false
   },
   "outputs": [
    {
     "data": {
      "text/html": [
       "<div>\n",
       "<table border=\"1\" class=\"dataframe\">\n",
       "  <thead>\n",
       "    <tr style=\"text-align: right;\">\n",
       "      <th></th>\n",
       "      <th>DistanceToPrev</th>\n",
       "      <th>LineCode</th>\n",
       "      <th>SeqNum</th>\n",
       "      <th>StationCode</th>\n",
       "      <th>StationName</th>\n",
       "    </tr>\n",
       "  </thead>\n",
       "  <tbody>\n",
       "    <tr>\n",
       "      <th>0</th>\n",
       "      <td>0</td>\n",
       "      <td>OR</td>\n",
       "      <td>1</td>\n",
       "      <td>K08</td>\n",
       "      <td>Vienna/Fairfax-GMU</td>\n",
       "    </tr>\n",
       "  </tbody>\n",
       "</table>\n",
       "</div>"
      ],
      "text/plain": [
       "   DistanceToPrev LineCode  SeqNum StationCode         StationName\n",
       "0               0       OR       1         K08  Vienna/Fairfax-GMU"
      ]
     },
     "execution_count": 216,
     "metadata": {},
     "output_type": "execute_result"
    }
   ],
   "source": []
  }
 ],
 "metadata": {
  "anaconda-cloud": {},
  "kernelspec": {
   "display_name": "Python [Root]",
   "language": "python",
   "name": "Python [Root]"
  },
  "language_info": {
   "codemirror_mode": {
    "name": "ipython",
    "version": 3
   },
   "file_extension": ".py",
   "mimetype": "text/x-python",
   "name": "python",
   "nbconvert_exporter": "python",
   "pygments_lexer": "ipython3",
   "version": "3.5.2"
  }
 },
 "nbformat": 4,
 "nbformat_minor": 0
}
