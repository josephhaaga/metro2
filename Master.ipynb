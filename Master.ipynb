{
 "cells": [
  {
   "cell_type": "code",
   "execution_count": 166,
   "metadata": {
    "collapsed": true
   },
   "outputs": [],
   "source": [
    "import json;\n",
    "import pandas as pd;\n",
    "import numpy as np;\n",
    "\n",
    "__VERBOSE__ = True;"
   ]
  },
  {
   "cell_type": "code",
   "execution_count": 167,
   "metadata": {
    "collapsed": false
   },
   "outputs": [],
   "source": [
    "paths = {}\n",
    "colors = ['Yellow','Blue','Red','Green','Silver','Orange']\n",
    "for c in colors:\n",
    "    paths[c] = pd.DataFrame(eval(json.load(open(c.lower()+\".txt\"))))\n",
    "    paths[c] = paths[c].sort_values(['SeqNum'])"
   ]
  },
  {
   "cell_type": "code",
   "execution_count": 168,
   "metadata": {
    "collapsed": true
   },
   "outputs": [],
   "source": [
    "def getLineColors(station):\n",
    "    colors = [];\n",
    "    for n in paths:\n",
    "        thisLine = paths[n];\n",
    "        if(len(thisLine[thisLine[\"StationName\"]==station]['LineCode'])>0):\n",
    "            colors.append(n)\n",
    "    return colors;\n",
    "\n",
    "def travel_time(orig,dest):\n",
    "    origin_code = (list(station_codes.keys())[list(station_codes.values()).index(orig.replace('\\\\',''))])\n",
    "    destination_code = (list(station_codes.keys())[list(station_codes.values()).index(dest.replace('\\\\',''))])\n",
    "    return (travel_times_df['RailTime'][(travel_times_df.DestinationStation == destination_code) & (travel_times_df.SourceStation == origin_code)]).item()\n",
    "\n",
    "# https://www.python.org/doc/essays/graphs/\n",
    "def find_all_paths(graph, start, end, path=[]):\n",
    "        path = path + [start]\n",
    "        if start == end:\n",
    "            return [path]\n",
    "        if not start in graph:\n",
    "            return []\n",
    "        paths = []\n",
    "        for node in graph[start]:\n",
    "            if node not in path:\n",
    "                newpaths = find_all_paths(graph, node, end, path)\n",
    "                for newpath in newpaths:\n",
    "                    paths.append(newpath)\n",
    "        return paths"
   ]
  },
  {
   "cell_type": "code",
   "execution_count": 169,
   "metadata": {
    "collapsed": false
   },
   "outputs": [],
   "source": [
    "origin = 'U Street\\\\/African-Amer Civil War Memorial\\\\/Cardozo'\n",
    "destination = 'Braddock Road'"
   ]
  },
  {
   "cell_type": "code",
   "execution_count": 170,
   "metadata": {
    "collapsed": false,
    "scrolled": true
   },
   "outputs": [],
   "source": [
    "graph = {};\n",
    "paths['Yellow']['StationName']\n",
    "\n",
    "for n in colors:\n",
    "    for p in paths[n]['StationName']:\n",
    "        graph[p]=[]\n",
    "# graph"
   ]
  },
  {
   "cell_type": "code",
   "execution_count": 171,
   "metadata": {
    "collapsed": false
   },
   "outputs": [],
   "source": [
    "for z in graph.keys():\n",
    "    for j in getLineColors(z):\n",
    "        listOfStations = list(paths[j]['StationName'])\n",
    "        currentIndex = listOfStations.index(z);\n",
    "        if(currentIndex>0):\n",
    "#             set prev\n",
    "            graph[z].append(listOfStations[currentIndex-1]);\n",
    "        if(currentIndex<len(listOfStations)-1):\n",
    "            graph[z].append(listOfStations[currentIndex+1])\n",
    "    graph[z]=list(set(graph[z]))"
   ]
  },
  {
   "cell_type": "code",
   "execution_count": 172,
   "metadata": {
    "collapsed": false
   },
   "outputs": [],
   "source": [
    "possibleRoutes = find_all_paths(graph,origin,destination)"
   ]
  },
  {
   "cell_type": "code",
   "execution_count": 173,
   "metadata": {
    "collapsed": false
   },
   "outputs": [
    {
     "name": "stdout",
     "output_type": "stream",
     "text": [
      "15 stops\n",
      "13 stops\n",
      "19 stops\n",
      "11 stops\n",
      "21 stops\n",
      "19 stops\n",
      "25 stops\n",
      "17 stops\n"
     ]
    }
   ],
   "source": [
    "for n in possibleRoutes:\n",
    "    print (str(len(n)) + \" stops\")"
   ]
  },
  {
   "cell_type": "code",
   "execution_count": 174,
   "metadata": {
    "collapsed": false
   },
   "outputs": [],
   "source": [
    "the_response = json.loads(\"\".join(open(\"StationToStation.json\").readlines()).replace(\"\\n\",\"\"),encoding='utf-8')['StationToStationInfoResp']['StationToStationInfos']['StationToStationInfo']\n",
    "travel_times_df=pd.DataFrame(the_response).drop(['RailFare'],axis=1)\n"
   ]
  },
  {
   "cell_type": "code",
   "execution_count": 175,
   "metadata": {
    "collapsed": false
   },
   "outputs": [],
   "source": [
    "station_info = json.loads(\"\".join(open(\"StationInfo.json\").readlines()).replace(\"\\n\",\"\"),encoding='utf-8')['StationsResp']['Stations']['Station']\n",
    "station_info_df=pd.DataFrame(station_info)"
   ]
  },
  {
   "cell_type": "code",
   "execution_count": 176,
   "metadata": {
    "collapsed": false,
    "scrolled": true
   },
   "outputs": [],
   "source": [
    "import re;\n",
    "station_info_df\n",
    "station_codes = {}\n",
    "for n in station_info_df['Code']:\n",
    "    station_codes[n] = re.sub(r'\\d+\\s+','',station_info_df['Name'][station_info_df['Code']==n].to_string())\n",
    "    "
   ]
  },
  {
   "cell_type": "code",
   "execution_count": 177,
   "metadata": {
    "collapsed": false
   },
   "outputs": [],
   "source": [
    "travel_times = []\n",
    "for n in possibleRoutes:\n",
    "    total_time = 0;\n",
    "    for k in range(0,len(n)-1):\n",
    "        total_time+=int(travel_time(n[k],n[k+1]));\n",
    "    travel_times.append(total_time)\n",
    "        "
   ]
  },
  {
   "cell_type": "code",
   "execution_count": 182,
   "metadata": {
    "collapsed": false
   },
   "outputs": [
    {
     "data": {
      "text/plain": [
       "[29, 27, 35, 23, 45, 43, 51, 39]"
      ]
     },
     "execution_count": 182,
     "metadata": {},
     "output_type": "execute_result"
    }
   ],
   "source": [
    "travel_times\n",
    "# The predicted travel durations for each of the possibleRoutes from origin to destination"
   ]
  },
  {
   "cell_type": "code",
   "execution_count": 183,
   "metadata": {
    "collapsed": false
   },
   "outputs": [
    {
     "data": {
      "text/plain": [
       "array([3, 1, 0, 2, 7, 5, 4, 6])"
      ]
     },
     "execution_count": 183,
     "metadata": {},
     "output_type": "execute_result"
    }
   ],
   "source": [
    "# Indexes of fastest routes ordered by travel_time\n",
    "np.argsort(travel_times)"
   ]
  },
  {
   "cell_type": "markdown",
   "metadata": {},
   "source": [
    "## Figure out route colors ##"
   ]
  },
  {
   "cell_type": "code",
   "execution_count": 179,
   "metadata": {
    "collapsed": false
   },
   "outputs": [
    {
     "name": "stdout",
     "output_type": "stream",
     "text": [
      "U Street\\/African-Amer Civil War Memorial\\/Cardozo\n",
      "Shaw-Howard U\n",
      "Mt Vernon Sq 7th St-Convention Center\n",
      "Gallery Pl-Chinatown\n",
      "Metro Center\n",
      "McPherson Square\n",
      "Farragut West\n",
      "Foggy Bottom-GWU\n",
      "Rosslyn\n",
      "Arlington Cemetery\n",
      "Pentagon\n",
      "Pentagon City\n",
      "Crystal City\n",
      "Ronald Reagan Washington National Airport\n",
      "Braddock Road\n"
     ]
    }
   ],
   "source": [
    "route_colors = []\n",
    "\n",
    "for n in possibleRoutes[0]:\n",
    "    print (n)\n",
    "    route_colors.append(getLineColors(n))\n",
    "    \n"
   ]
  },
  {
   "cell_type": "code",
   "execution_count": 180,
   "metadata": {
    "collapsed": false
   },
   "outputs": [],
   "source": [
    "master = []\n",
    "for n in route_colors:\n",
    "#     print (n)\n",
    "    for k in n:\n",
    "        master.append(k)\n"
   ]
  },
  {
   "cell_type": "code",
   "execution_count": 181,
   "metadata": {
    "collapsed": false
   },
   "outputs": [
    {
     "name": "stdout",
     "output_type": "stream",
     "text": [
      "{'Yellow', 'Green'}\n",
      "{'Yellow', 'Green'}\n",
      "{'Yellow', 'Green'}\n",
      "{'Red'}\n",
      "{'Blue', 'Orange', 'Silver'}\n",
      "{'Blue', 'Orange', 'Silver'}\n",
      "{'Blue', 'Orange', 'Silver'}\n",
      "{'Blue', 'Orange', 'Silver'}\n",
      "{'Blue'}\n",
      "{'Blue'}\n",
      "{'Yellow', 'Blue'}\n",
      "{'Yellow', 'Blue'}\n",
      "{'Yellow', 'Blue'}\n",
      "{'Yellow', 'Blue'}\n"
     ]
    }
   ],
   "source": [
    "instructions = []\n",
    "for n in range(0,len(route_colors)-1):\n",
    "    print (set(route_colors[n]).intersection(route_colors[n+1]));\n",
    "    instructions.append((set(route_colors[n]).intersection(route_colors[n+1])));\n"
   ]
  }
 ],
 "metadata": {
  "anaconda-cloud": {},
  "kernelspec": {
   "display_name": "Python [Root]",
   "language": "python",
   "name": "Python [Root]"
  },
  "language_info": {
   "codemirror_mode": {
    "name": "ipython",
    "version": 3
   },
   "file_extension": ".py",
   "mimetype": "text/x-python",
   "name": "python",
   "nbconvert_exporter": "python",
   "pygments_lexer": "ipython3",
   "version": "3.5.2"
  }
 },
 "nbformat": 4,
 "nbformat_minor": 0
}
