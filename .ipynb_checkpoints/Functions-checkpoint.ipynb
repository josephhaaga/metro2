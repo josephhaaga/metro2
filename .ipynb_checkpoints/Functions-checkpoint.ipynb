{
 "cells": [
  {
   "cell_type": "code",
   "execution_count": 29,
   "metadata": {
    "collapsed": true
   },
   "outputs": [],
   "source": [
    "import json;\n",
    "import pandas as pd;\n",
    "import numpy as np;"
   ]
  },
  {
   "cell_type": "code",
   "execution_count": 127,
   "metadata": {
    "collapsed": false
   },
   "outputs": [],
   "source": [
    "paths = {}\n",
    "colors = ['Yellow','Blue','Red','Green','Silver','Orange']\n",
    "for c in colors:\n",
    "    paths[c] = pd.DataFrame(eval(json.load(open(c.lower()+\".txt\"))))\n",
    "    paths[c] = paths[c].sort_values(['SeqNum'])"
   ]
  },
  {
   "cell_type": "code",
   "execution_count": 129,
   "metadata": {
    "collapsed": true
   },
   "outputs": [],
   "source": [
    "def getLineColors(station):\n",
    "    colors = [];\n",
    "    for n in paths:\n",
    "        thisLine = paths[n];\n",
    "        if(len(thisLine[thisLine[\"StationName\"]==station]['LineCode'])>0):\n",
    "            colors.append(n)\n",
    "    return colors;"
   ]
  },
  {
   "cell_type": "code",
   "execution_count": 130,
   "metadata": {
    "collapsed": false
   },
   "outputs": [
    {
     "data": {
      "text/plain": [
       "['Orange', 'Red', 'Blue', 'Silver']"
      ]
     },
     "execution_count": 130,
     "metadata": {},
     "output_type": "execute_result"
    }
   ],
   "source": [
    "getLineColors('Metro Center')"
   ]
  },
  {
   "cell_type": "code",
   "execution_count": 131,
   "metadata": {
    "collapsed": false
   },
   "outputs": [],
   "source": [
    "origin = 'U Street\\\\/African-Amer Civil War Memorial\\\\/Cardozo'\n",
    "destination = 'Braddock Road'"
   ]
  },
  {
   "cell_type": "code",
   "execution_count": 132,
   "metadata": {
    "collapsed": false
   },
   "outputs": [],
   "source": [
    "a=getLineColors(origin)"
   ]
  },
  {
   "cell_type": "code",
   "execution_count": 133,
   "metadata": {
    "collapsed": false
   },
   "outputs": [],
   "source": [
    "b=getLineColors(destination)"
   ]
  },
  {
   "cell_type": "code",
   "execution_count": 191,
   "metadata": {
    "collapsed": true
   },
   "outputs": [],
   "source": [
    "def getPossiblePaths(start,end):\n",
    "    path_possibilities = {};\n",
    "#     direct path, if it exists\n",
    "    sharedLines = list(set(getLineColors(start)).intersection(getLineColors(end)));\n",
    "    if(len(sharedLines)>0):\n",
    "        for n in sharedLines:\n",
    "            origin_index = int(list(paths[n][paths[n]['StationName']==start].index)[0])\n",
    "            destination_index = int(list(paths[n][paths[n]['StationName']==end].index)[0])\n",
    "            if(origin_index>destination_index):\n",
    "                the_path = list(paths[n].iloc[destination_index:origin_index+1]['StationName']);\n",
    "                the_path.reverse();\n",
    "                path_possibilities[n]=(the_path);\n",
    "            else:\n",
    "                path_possibilities[n] = (list(paths[n].iloc[origin_index:destination_index+1]['StationName']));\n",
    "                \n",
    "    return path_possibilities;"
   ]
  },
  {
   "cell_type": "code",
   "execution_count": 221,
   "metadata": {
    "collapsed": false
   },
   "outputs": [],
   "source": [
    "def findTransferPoints(start,destination):\n",
    "    possible_transfer_points = {};\n",
    "    start_lines = getLineColors(start);\n",
    "    dest_lines = getLineColors(destination);\n",
    "    for p in start_lines:\n",
    "        possible_transfer_points[p]={};\n",
    "        for q in dest_lines:\n",
    "#             print(p+\"->\"+q)\n",
    "            intersections = set(list(paths[p]['StationName'])).intersection(list(set(paths[q]['StationName'])))\n",
    "#             print(intersections)\n",
    "            if(p!=q):\n",
    "                possible_transfer_points[p][q] = (intersections);\n",
    "#             print(\" \")\n",
    "#             if(len(set(list(paths[p]['StationName'])).intersection(list(set(paths[q]['StationName']))))==1)\n",
    "    return possible_transfer_points;"
   ]
  },
  {
   "cell_type": "code",
   "execution_count": 223,
   "metadata": {
    "collapsed": false
   },
   "outputs": [],
   "source": [
    "tfs = findTransferPoints(origin,destination)"
   ]
  },
  {
   "cell_type": "code",
   "execution_count": 227,
   "metadata": {
    "collapsed": false
   },
   "outputs": [
    {
     "data": {
      "text/plain": [
       "{'Blue': {\"L'Enfant Plaza\"},\n",
       " 'Yellow': {'Archives-Navy Memorial-Penn Quarter',\n",
       "  'Columbia Heights',\n",
       "  'Fort Totten',\n",
       "  'Gallery Pl-Chinatown',\n",
       "  'Georgia Ave-Petworth',\n",
       "  \"L'Enfant Plaza\",\n",
       "  'Mt Vernon Sq 7th St-Convention Center',\n",
       "  'Shaw-Howard U',\n",
       "  'U Street\\\\/African-Amer Civil War Memorial\\\\/Cardozo'}}"
      ]
     },
     "execution_count": 227,
     "metadata": {},
     "output_type": "execute_result"
    }
   ],
   "source": [
    "tfs['Green']"
   ]
  }
 ],
 "metadata": {
  "kernelspec": {
   "display_name": "Python [Root]",
   "language": "python",
   "name": "Python [Root]"
  },
  "language_info": {
   "codemirror_mode": {
    "name": "ipython",
    "version": 3
   },
   "file_extension": ".py",
   "mimetype": "text/x-python",
   "name": "python",
   "nbconvert_exporter": "python",
   "pygments_lexer": "ipython3",
   "version": "3.5.2"
  }
 },
 "nbformat": 4,
 "nbformat_minor": 0
}
