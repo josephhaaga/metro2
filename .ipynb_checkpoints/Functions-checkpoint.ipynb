{
 "cells": [
  {
   "cell_type": "code",
   "execution_count": 29,
   "metadata": {
    "collapsed": true
   },
   "outputs": [],
   "source": [
    "import json;\n",
    "import pandas as pd;\n",
    "import numpy as np;"
   ]
  },
  {
   "cell_type": "code",
   "execution_count": 127,
   "metadata": {
    "collapsed": false
   },
   "outputs": [],
   "source": [
    "paths = {}\n",
    "colors = ['Yellow','Blue','Red','Green','Silver','Orange']\n",
    "for c in colors:\n",
    "    paths[c] = pd.DataFrame(eval(json.load(open(c.lower()+\".txt\"))))\n",
    "    paths[c] = paths[c].sort_values(['SeqNum'])"
   ]
  },
  {
   "cell_type": "code",
   "execution_count": 129,
   "metadata": {
    "collapsed": true
   },
   "outputs": [],
   "source": [
    "def getLineColors(station):\n",
    "    colors = [];\n",
    "    for n in paths:\n",
    "        thisLine = paths[n];\n",
    "        if(len(thisLine[thisLine[\"StationName\"]==station]['LineCode'])>0):\n",
    "            colors.append(n)\n",
    "    return colors;"
   ]
  },
  {
   "cell_type": "code",
   "execution_count": 130,
   "metadata": {
    "collapsed": false
   },
   "outputs": [
    {
     "data": {
      "text/plain": [
       "['Orange', 'Red', 'Blue', 'Silver']"
      ]
     },
     "execution_count": 130,
     "metadata": {},
     "output_type": "execute_result"
    }
   ],
   "source": [
    "getLineColors('Metro Center')"
   ]
  },
  {
   "cell_type": "code",
   "execution_count": 131,
   "metadata": {
    "collapsed": false
   },
   "outputs": [],
   "source": [
    "origin = 'U Street\\\\/African-Amer Civil War Memorial\\\\/Cardozo'\n",
    "destination = 'Braddock Road'"
   ]
  },
  {
   "cell_type": "code",
   "execution_count": 132,
   "metadata": {
    "collapsed": false
   },
   "outputs": [],
   "source": [
    "a=getLineColors(origin)"
   ]
  },
  {
   "cell_type": "code",
   "execution_count": 133,
   "metadata": {
    "collapsed": false
   },
   "outputs": [],
   "source": [
    "b=getLineColors(destination)"
   ]
  },
  {
   "cell_type": "code",
   "execution_count": 191,
   "metadata": {
    "collapsed": true
   },
   "outputs": [],
   "source": [
    "def getPossiblePaths(start,end):\n",
    "    path_possibilities = {};\n",
    "#     direct path, if it exists\n",
    "    sharedLines = list(set(getLineColors(start)).intersection(getLineColors(end)));\n",
    "    if(len(sharedLines)>0):\n",
    "        for n in sharedLines:\n",
    "            origin_index = int(list(paths[n][paths[n]['StationName']==start].index)[0])\n",
    "            destination_index = int(list(paths[n][paths[n]['StationName']==end].index)[0])\n",
    "            if(origin_index>destination_index):\n",
    "                the_path = list(paths[n].iloc[destination_index:origin_index+1]['StationName']);\n",
    "                the_path.reverse();\n",
    "                path_possibilities[n]=(the_path);\n",
    "            else:\n",
    "                path_possibilities[n] = (list(paths[n].iloc[origin_index:destination_index+1]['StationName']));\n",
    "                \n",
    "    return path_possibilities;"
   ]
  },
  {
   "cell_type": "code",
   "execution_count": 221,
   "metadata": {
    "collapsed": false
   },
   "outputs": [],
   "source": [
    "def findTransferPoints(start,destination):\n",
    "    possible_transfer_points = {};\n",
    "    start_lines = getLineColors(start);\n",
    "    dest_lines = getLineColors(destination);\n",
    "    for p in start_lines:\n",
    "        possible_transfer_points[p]={};\n",
    "        for q in dest_lines:\n",
    "            intersections = set(list(paths[p]['StationName'])).intersection(list(set(paths[q]['StationName'])))\n",
    "            if(p!=q):\n",
    "                possible_transfer_points[p][q] = (intersections);\n",
    "    return possible_transfer_points;"
   ]
  },
  {
   "cell_type": "code",
   "execution_count": 223,
   "metadata": {
    "collapsed": false
   },
   "outputs": [],
   "source": [
    "tfs = findTransferPoints(origin,destination)"
   ]
  },
  {
   "cell_type": "code",
   "execution_count": 228,
   "metadata": {
    "collapsed": false
   },
   "outputs": [
    {
     "data": {
      "text/plain": [
       "{'Blue': {\"L'Enfant Plaza\"},\n",
       " 'Yellow': {'Archives-Navy Memorial-Penn Quarter',\n",
       "  'Columbia Heights',\n",
       "  'Fort Totten',\n",
       "  'Gallery Pl-Chinatown',\n",
       "  'Georgia Ave-Petworth',\n",
       "  \"L'Enfant Plaza\",\n",
       "  'Mt Vernon Sq 7th St-Convention Center',\n",
       "  'Shaw-Howard U',\n",
       "  'U Street\\\\/African-Amer Civil War Memorial\\\\/Cardozo'}}"
      ]
     },
     "execution_count": 228,
     "metadata": {},
     "output_type": "execute_result"
    }
   ],
   "source": [
    "tfs['Green']"
   ]
  },
  {
   "cell_type": "code",
   "execution_count": 230,
   "metadata": {
    "collapsed": false
   },
   "outputs": [
    {
     "data": {
      "text/plain": [
       "{'Blue': {'Green': {\"L'Enfant Plaza\"}},\n",
       " 'Orange': {'Green': {\"L'Enfant Plaza\"}},\n",
       " 'Red': {'Green': {'Fort Totten', 'Gallery Pl-Chinatown'}},\n",
       " 'Silver': {'Green': {\"L'Enfant Plaza\"}}}"
      ]
     },
     "execution_count": 230,
     "metadata": {},
     "output_type": "execute_result"
    }
   ],
   "source": [
    "findTransferPoints('Metro Center','Waterfront')"
   ]
  },
  {
   "cell_type": "code",
   "execution_count": 232,
   "metadata": {
    "collapsed": false
   },
   "outputs": [
    {
     "data": {
      "text/plain": [
       "{'Red': {'Blue': {'Metro Center'},\n",
       "  'Orange': {'Metro Center'},\n",
       "  'Silver': {'Metro Center'}}}"
      ]
     },
     "execution_count": 232,
     "metadata": {},
     "output_type": "execute_result"
    }
   ],
   "source": [
    "findTransferPoints('Union Station','Potomac Ave')\n",
    "# This should show Gallery Pl -> L'Enfant Plaza"
   ]
  },
  {
   "cell_type": "code",
   "execution_count": 332,
   "metadata": {
    "collapsed": false
   },
   "outputs": [],
   "source": [
    "def findDoubleTransferPoints(start,destination):\n",
    "    temp_result = [];\n",
    "    possible_transfer_points = {};\n",
    "    startLineStations = [paths[n]['StationName'] for n in getLineColors(start)]\n",
    "    destLineStations = [paths[n]['StationName'] for n in getLineColors(destination)]\n",
    "    print (destLineStations)\n",
    "#     return stations on origin_line that share a line color with any of the stations on dest_line\n",
    "    \n",
    "\n",
    "            "
   ]
  },
  {
   "cell_type": "code",
   "execution_count": 333,
   "metadata": {
    "collapsed": false
   },
   "outputs": [
    {
     "name": "stdout",
     "output_type": "stream",
     "text": [
      "[0           Vienna\\/Fairfax-GMU\n",
      "1        Dunn Loring-Merrifield\n",
      "2     West Falls Church-VT\\/UVA\n",
      "3             East Falls Church\n",
      "4                   Ballston-MU\n",
      "5           Virginia Square-GMU\n",
      "6                     Clarendon\n",
      "7                   Court House\n",
      "8                       Rosslyn\n",
      "9              Foggy Bottom-GWU\n",
      "10                Farragut West\n",
      "11             McPherson Square\n",
      "12                 Metro Center\n",
      "13             Federal Triangle\n",
      "14                  Smithsonian\n",
      "15               L'Enfant Plaza\n",
      "16            Federal Center SW\n",
      "17                Capitol South\n",
      "18               Eastern Market\n",
      "19                  Potomac Ave\n",
      "20               Stadium-Armory\n",
      "21                Minnesota Ave\n",
      "22                     Deanwood\n",
      "23                     Cheverly\n",
      "24                     Landover\n",
      "25               New Carrollton\n",
      "Name: StationName, dtype: object, 0                         Franconia-Springfield\n",
      "1                               Van Dorn Street\n",
      "2                              King St-Old Town\n",
      "3                                 Braddock Road\n",
      "4     Ronald Reagan Washington National Airport\n",
      "5                                  Crystal City\n",
      "6                                 Pentagon City\n",
      "7                                      Pentagon\n",
      "8                            Arlington Cemetery\n",
      "9                                       Rosslyn\n",
      "10                             Foggy Bottom-GWU\n",
      "11                                Farragut West\n",
      "12                             McPherson Square\n",
      "13                                 Metro Center\n",
      "14                             Federal Triangle\n",
      "15                                  Smithsonian\n",
      "16                               L'Enfant Plaza\n",
      "17                            Federal Center SW\n",
      "18                                Capitol South\n",
      "19                               Eastern Market\n",
      "20                                  Potomac Ave\n",
      "21                               Stadium-Armory\n",
      "22                                 Benning Road\n",
      "23                              Capitol Heights\n",
      "24                   Addison Road-Seat Pleasant\n",
      "25                             Morgan Boulevard\n",
      "26                            Largo Town Center\n",
      "Name: StationName, dtype: object, 0             Wiehle-Reston East\n",
      "1                    Spring Hill\n",
      "2                     Greensboro\n",
      "3                  Tysons Corner\n",
      "4                         McLean\n",
      "5              East Falls Church\n",
      "6                    Ballston-MU\n",
      "7            Virginia Square-GMU\n",
      "8                      Clarendon\n",
      "9                    Court House\n",
      "10                       Rosslyn\n",
      "11              Foggy Bottom-GWU\n",
      "12                 Farragut West\n",
      "13              McPherson Square\n",
      "14                  Metro Center\n",
      "15              Federal Triangle\n",
      "16                   Smithsonian\n",
      "17                L'Enfant Plaza\n",
      "18             Federal Center SW\n",
      "19                 Capitol South\n",
      "20                Eastern Market\n",
      "21                   Potomac Ave\n",
      "22                Stadium-Armory\n",
      "23                  Benning Road\n",
      "24               Capitol Heights\n",
      "25    Addison Road-Seat Pleasant\n",
      "26              Morgan Boulevard\n",
      "27             Largo Town Center\n",
      "Name: StationName, dtype: object]\n"
     ]
    }
   ],
   "source": [
    "findDoubleTransferPoints(\"Gallery Pl-Chinatown\",\"Potomac Ave\")"
   ]
  }
 ],
 "metadata": {
  "kernelspec": {
   "display_name": "Python [Root]",
   "language": "python",
   "name": "Python [Root]"
  },
  "language_info": {
   "codemirror_mode": {
    "name": "ipython",
    "version": 3
   },
   "file_extension": ".py",
   "mimetype": "text/x-python",
   "name": "python",
   "nbconvert_exporter": "python",
   "pygments_lexer": "ipython3",
   "version": "3.5.2"
  }
 },
 "nbformat": 4,
 "nbformat_minor": 0
}
