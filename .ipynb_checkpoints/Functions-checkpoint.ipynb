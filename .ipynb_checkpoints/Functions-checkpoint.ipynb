{
 "cells": [
  {
   "cell_type": "code",
   "execution_count": 29,
   "metadata": {
    "collapsed": true
   },
   "outputs": [],
   "source": [
    "import json;\n",
    "import pandas as pd;\n",
    "import numpy as np;"
   ]
  },
  {
   "cell_type": "code",
   "execution_count": 127,
   "metadata": {
    "collapsed": false
   },
   "outputs": [],
   "source": [
    "paths = {}\n",
    "colors = ['Yellow','Blue','Red','Green','Silver','Orange']\n",
    "for c in colors:\n",
    "    paths[c] = pd.DataFrame(eval(json.load(open(c.lower()+\".txt\"))))\n",
    "    paths[c] = paths[c].sort_values(['SeqNum'])"
   ]
  },
  {
   "cell_type": "code",
   "execution_count": 129,
   "metadata": {
    "collapsed": true
   },
   "outputs": [],
   "source": [
    "def getLineColors(station):\n",
    "    colors = [];\n",
    "    for n in paths:\n",
    "        thisLine = paths[n];\n",
    "        if(len(thisLine[thisLine[\"StationName\"]==station]['LineCode'])>0):\n",
    "            colors.append(n)\n",
    "    return colors;"
   ]
  },
  {
   "cell_type": "code",
   "execution_count": 130,
   "metadata": {
    "collapsed": false
   },
   "outputs": [
    {
     "data": {
      "text/plain": [
       "['Orange', 'Red', 'Blue', 'Silver']"
      ]
     },
     "execution_count": 130,
     "metadata": {},
     "output_type": "execute_result"
    }
   ],
   "source": [
    "getLineColors('Metro Center')"
   ]
  },
  {
   "cell_type": "code",
   "execution_count": 131,
   "metadata": {
    "collapsed": false
   },
   "outputs": [],
   "source": [
    "origin = 'U Street\\\\/African-Amer Civil War Memorial\\\\/Cardozo'\n",
    "destination = 'Braddock Road'"
   ]
  },
  {
   "cell_type": "code",
   "execution_count": 132,
   "metadata": {
    "collapsed": false
   },
   "outputs": [],
   "source": [
    "a=getLineColors(origin)"
   ]
  },
  {
   "cell_type": "code",
   "execution_count": 133,
   "metadata": {
    "collapsed": false
   },
   "outputs": [],
   "source": [
    "b=getLineColors(destination)"
   ]
  },
  {
   "cell_type": "code",
   "execution_count": 191,
   "metadata": {
    "collapsed": true
   },
   "outputs": [],
   "source": [
    "def getPossiblePaths(start,end):\n",
    "    path_possibilities = {};\n",
    "#     direct path, if it exists\n",
    "    sharedLines = list(set(getLineColors(start)).intersection(getLineColors(end)));\n",
    "    if(len(sharedLines)>0):\n",
    "        for n in sharedLines:\n",
    "            origin_index = int(list(paths[n][paths[n]['StationName']==start].index)[0])\n",
    "            destination_index = int(list(paths[n][paths[n]['StationName']==end].index)[0])\n",
    "            if(origin_index>destination_index):\n",
    "                the_path = list(paths[n].iloc[destination_index:origin_index+1]['StationName']);\n",
    "                the_path.reverse();\n",
    "                path_possibilities[n]=(the_path);\n",
    "            else:\n",
    "                path_possibilities[n] = (list(paths[n].iloc[origin_index:destination_index+1]['StationName']));\n",
    "                \n",
    "    return path_possibilities;"
   ]
  },
  {
   "cell_type": "code",
   "execution_count": 221,
   "metadata": {
    "collapsed": false
   },
   "outputs": [],
   "source": [
    "def findTransferPoints(start,destination):\n",
    "    possible_transfer_points = {};\n",
    "    start_lines = getLineColors(start);\n",
    "    dest_lines = getLineColors(destination);\n",
    "    for p in start_lines:\n",
    "        possible_transfer_points[p]={};\n",
    "        for q in dest_lines:\n",
    "            intersections = set(list(paths[p]['StationName'])).intersection(list(set(paths[q]['StationName'])))\n",
    "            if(p!=q):\n",
    "                possible_transfer_points[p][q] = (intersections);\n",
    "    return possible_transfer_points;"
   ]
  },
  {
   "cell_type": "code",
   "execution_count": 223,
   "metadata": {
    "collapsed": false
   },
   "outputs": [],
   "source": [
    "tfs = findTransferPoints(origin,destination)"
   ]
  },
  {
   "cell_type": "code",
   "execution_count": 228,
   "metadata": {
    "collapsed": false
   },
   "outputs": [
    {
     "data": {
      "text/plain": [
       "{'Blue': {\"L'Enfant Plaza\"},\n",
       " 'Yellow': {'Archives-Navy Memorial-Penn Quarter',\n",
       "  'Columbia Heights',\n",
       "  'Fort Totten',\n",
       "  'Gallery Pl-Chinatown',\n",
       "  'Georgia Ave-Petworth',\n",
       "  \"L'Enfant Plaza\",\n",
       "  'Mt Vernon Sq 7th St-Convention Center',\n",
       "  'Shaw-Howard U',\n",
       "  'U Street\\\\/African-Amer Civil War Memorial\\\\/Cardozo'}}"
      ]
     },
     "execution_count": 228,
     "metadata": {},
     "output_type": "execute_result"
    }
   ],
   "source": [
    "tfs['Green']"
   ]
  },
  {
   "cell_type": "code",
   "execution_count": 230,
   "metadata": {
    "collapsed": false
   },
   "outputs": [
    {
     "data": {
      "text/plain": [
       "{'Blue': {'Green': {\"L'Enfant Plaza\"}},\n",
       " 'Orange': {'Green': {\"L'Enfant Plaza\"}},\n",
       " 'Red': {'Green': {'Fort Totten', 'Gallery Pl-Chinatown'}},\n",
       " 'Silver': {'Green': {\"L'Enfant Plaza\"}}}"
      ]
     },
     "execution_count": 230,
     "metadata": {},
     "output_type": "execute_result"
    }
   ],
   "source": [
    "findTransferPoints('Metro Center','Waterfront')"
   ]
  },
  {
   "cell_type": "code",
   "execution_count": 232,
   "metadata": {
    "collapsed": false
   },
   "outputs": [
    {
     "data": {
      "text/plain": [
       "{'Red': {'Blue': {'Metro Center'},\n",
       "  'Orange': {'Metro Center'},\n",
       "  'Silver': {'Metro Center'}}}"
      ]
     },
     "execution_count": 232,
     "metadata": {},
     "output_type": "execute_result"
    }
   ],
   "source": [
    "findTransferPoints('Union Station','Potomac Ave')\n",
    "# This should show Gallery Pl -> L'Enfant Plaza"
   ]
  },
  {
   "cell_type": "code",
   "execution_count": 387,
   "metadata": {
    "collapsed": false
   },
   "outputs": [],
   "source": [
    "def findDoubleTransferPoints(start,destination):\n",
    "    temp_result = [];\n",
    "    possible_transfer_points = {};\n",
    "    startLineStations = list(set([k for k in paths[n]['StationName'] for n in getLineColors(start)]))\n",
    "    destLineStations = list(set([g for g in paths[q]['StationName'] for q in getLineColors(destination)]))\n",
    "#     return stations on origin_line that share a line color with any of the stations on dest_line\n",
    "    startLineStationColors = {station:getLineColors(station) for station in startLineStations}\n",
    "    destLineStationColors = {station:getLineColors(station) for station in destLineStations}\n",
    "    return (startLineStationColors,destLineStationColors)\n",
    "\n",
    "            "
   ]
  },
  {
   "cell_type": "code",
   "execution_count": 389,
   "metadata": {
    "collapsed": false
   },
   "outputs": [],
   "source": [
    "starts = findDoubleTransferPoints(\"Union Station\",\"Potomac Ave\")[0]\n",
    "dests = findDoubleTransferPoints(\"Union Station\",\"Potomac Ave\")[1]"
   ]
  },
  {
   "cell_type": "code",
   "execution_count": 417,
   "metadata": {
    "collapsed": false
   },
   "outputs": [
    {
     "data": {
      "text/plain": [
       "{'Blue', 'Green', 'Orange', 'Red', 'Silver', 'Yellow'}"
      ]
     },
     "execution_count": 417,
     "metadata": {},
     "output_type": "execute_result"
    }
   ],
   "source": [
    "flat = []\n",
    "for k in list(starts.values()):\n",
    "    for g in k:\n",
    "        flat.append(g)\n",
    "set(flat)"
   ]
  },
  {
   "cell_type": "code",
   "execution_count": 421,
   "metadata": {
    "collapsed": false
   },
   "outputs": [
    {
     "data": {
      "text/plain": [
       "{'Metro Center'}"
      ]
     },
     "execution_count": 421,
     "metadata": {},
     "output_type": "execute_result"
    }
   ],
   "source": [
    "set(paths['Red']['StationName']).intersection(set(paths['Blue']['StationName']))"
   ]
  },
  {
   "cell_type": "code",
   "execution_count": 438,
   "metadata": {
    "collapsed": false
   },
   "outputs": [],
   "source": [
    "transfer_points = {};\n",
    "for n in colors:\n",
    "    transfer_points[n]={}\n",
    "    for k in colors:\n",
    "        if(k!=n):\n",
    "            transfer_points[n][k]=list(set(paths[n]['StationName']).intersection(set(paths[k]['StationName'])))"
   ]
  },
  {
   "cell_type": "code",
   "execution_count": 426,
   "metadata": {
    "collapsed": false
   },
   "outputs": [
    {
     "data": {
      "text/plain": [
       "{'Blue': {'Green': [\"L'Enfant Plaza\"],\n",
       "  'Orange': ['Potomac Ave',\n",
       "   \"L'Enfant Plaza\",\n",
       "   'McPherson Square',\n",
       "   'Farragut West',\n",
       "   'Capitol South',\n",
       "   'Smithsonian',\n",
       "   'Foggy Bottom-GWU',\n",
       "   'Rosslyn',\n",
       "   'Eastern Market',\n",
       "   'Stadium-Armory',\n",
       "   'Federal Center SW',\n",
       "   'Federal Triangle',\n",
       "   'Metro Center'],\n",
       "  'Red': ['Metro Center'],\n",
       "  'Silver': ['Potomac Ave',\n",
       "   \"L'Enfant Plaza\",\n",
       "   'McPherson Square',\n",
       "   'Morgan Boulevard',\n",
       "   'Farragut West',\n",
       "   'Capitol South',\n",
       "   'Smithsonian',\n",
       "   'Addison Road-Seat Pleasant',\n",
       "   'Foggy Bottom-GWU',\n",
       "   'Rosslyn',\n",
       "   'Benning Road',\n",
       "   'Eastern Market',\n",
       "   'Stadium-Armory',\n",
       "   'Federal Center SW',\n",
       "   'Capitol Heights',\n",
       "   'Largo Town Center',\n",
       "   'Federal Triangle',\n",
       "   'Metro Center'],\n",
       "  'Yellow': ['Braddock Road',\n",
       "   \"L'Enfant Plaza\",\n",
       "   'Pentagon City',\n",
       "   'Crystal City',\n",
       "   'King St-Old Town',\n",
       "   'Ronald Reagan Washington National Airport',\n",
       "   'Pentagon']},\n",
       " 'Green': {'Blue': [\"L'Enfant Plaza\"],\n",
       "  'Orange': [\"L'Enfant Plaza\"],\n",
       "  'Red': ['Fort Totten', 'Gallery Pl-Chinatown'],\n",
       "  'Silver': [\"L'Enfant Plaza\"],\n",
       "  'Yellow': ['Archives-Navy Memorial-Penn Quarter',\n",
       "   \"L'Enfant Plaza\",\n",
       "   'Georgia Ave-Petworth',\n",
       "   'Columbia Heights',\n",
       "   'Shaw-Howard U',\n",
       "   'Fort Totten',\n",
       "   'Mt Vernon Sq 7th St-Convention Center',\n",
       "   'U Street\\\\/African-Amer Civil War Memorial\\\\/Cardozo',\n",
       "   'Gallery Pl-Chinatown']},\n",
       " 'Orange': {'Blue': ['Potomac Ave',\n",
       "   \"L'Enfant Plaza\",\n",
       "   'McPherson Square',\n",
       "   'Farragut West',\n",
       "   'Capitol South',\n",
       "   'Smithsonian',\n",
       "   'Foggy Bottom-GWU',\n",
       "   'Rosslyn',\n",
       "   'Eastern Market',\n",
       "   'Stadium-Armory',\n",
       "   'Federal Center SW',\n",
       "   'Federal Triangle',\n",
       "   'Metro Center'],\n",
       "  'Green': [\"L'Enfant Plaza\"],\n",
       "  'Red': ['Metro Center'],\n",
       "  'Silver': ['East Falls Church',\n",
       "   'Virginia Square-GMU',\n",
       "   'Potomac Ave',\n",
       "   \"L'Enfant Plaza\",\n",
       "   'McPherson Square',\n",
       "   'Farragut West',\n",
       "   'Capitol South',\n",
       "   'Smithsonian',\n",
       "   'Ballston-MU',\n",
       "   'Foggy Bottom-GWU',\n",
       "   'Court House',\n",
       "   'Rosslyn',\n",
       "   'Eastern Market',\n",
       "   'Stadium-Armory',\n",
       "   'Clarendon',\n",
       "   'Federal Center SW',\n",
       "   'Federal Triangle',\n",
       "   'Metro Center'],\n",
       "  'Yellow': [\"L'Enfant Plaza\"]},\n",
       " 'Red': {'Blue': ['Metro Center'],\n",
       "  'Green': ['Fort Totten', 'Gallery Pl-Chinatown'],\n",
       "  'Orange': ['Metro Center'],\n",
       "  'Silver': ['Metro Center'],\n",
       "  'Yellow': ['Fort Totten', 'Gallery Pl-Chinatown']},\n",
       " 'Silver': {'Blue': ['Potomac Ave',\n",
       "   \"L'Enfant Plaza\",\n",
       "   'McPherson Square',\n",
       "   'Morgan Boulevard',\n",
       "   'Farragut West',\n",
       "   'Capitol South',\n",
       "   'Smithsonian',\n",
       "   'Addison Road-Seat Pleasant',\n",
       "   'Foggy Bottom-GWU',\n",
       "   'Rosslyn',\n",
       "   'Benning Road',\n",
       "   'Eastern Market',\n",
       "   'Stadium-Armory',\n",
       "   'Federal Center SW',\n",
       "   'Capitol Heights',\n",
       "   'Largo Town Center',\n",
       "   'Federal Triangle',\n",
       "   'Metro Center'],\n",
       "  'Green': [\"L'Enfant Plaza\"],\n",
       "  'Orange': ['East Falls Church',\n",
       "   'Virginia Square-GMU',\n",
       "   'Potomac Ave',\n",
       "   \"L'Enfant Plaza\",\n",
       "   'McPherson Square',\n",
       "   'Farragut West',\n",
       "   'Capitol South',\n",
       "   'Smithsonian',\n",
       "   'Ballston-MU',\n",
       "   'Foggy Bottom-GWU',\n",
       "   'Court House',\n",
       "   'Rosslyn',\n",
       "   'Eastern Market',\n",
       "   'Stadium-Armory',\n",
       "   'Clarendon',\n",
       "   'Federal Center SW',\n",
       "   'Federal Triangle',\n",
       "   'Metro Center'],\n",
       "  'Red': ['Metro Center'],\n",
       "  'Yellow': [\"L'Enfant Plaza\"]},\n",
       " 'Yellow': {'Blue': ['Braddock Road',\n",
       "   \"L'Enfant Plaza\",\n",
       "   'Pentagon City',\n",
       "   'Crystal City',\n",
       "   'King St-Old Town',\n",
       "   'Ronald Reagan Washington National Airport',\n",
       "   'Pentagon'],\n",
       "  'Green': ['Archives-Navy Memorial-Penn Quarter',\n",
       "   \"L'Enfant Plaza\",\n",
       "   'Georgia Ave-Petworth',\n",
       "   'Columbia Heights',\n",
       "   'Shaw-Howard U',\n",
       "   'Fort Totten',\n",
       "   'Mt Vernon Sq 7th St-Convention Center',\n",
       "   'U Street\\\\/African-Amer Civil War Memorial\\\\/Cardozo',\n",
       "   'Gallery Pl-Chinatown'],\n",
       "  'Orange': [\"L'Enfant Plaza\"],\n",
       "  'Red': ['Fort Totten', 'Gallery Pl-Chinatown'],\n",
       "  'Silver': [\"L'Enfant Plaza\"]}}"
      ]
     },
     "execution_count": 426,
     "metadata": {},
     "output_type": "execute_result"
    }
   ],
   "source": [
    "transfer_points"
   ]
  },
  {
   "cell_type": "code",
   "execution_count": 437,
   "metadata": {
    "collapsed": false
   },
   "outputs": [
    {
     "name": "stdout",
     "output_type": "stream",
     "text": [
      " \n",
      "[\"L'Enfant Plaza\"]\n",
      " \n",
      "[\"L'Enfant Plaza\"]\n",
      " \n",
      "[\"L'Enfant Plaza\"]\n"
     ]
    }
   ],
   "source": [
    "for n in getLineColors(start):\n",
    "    for k in getLineColors(destination):\n",
    "        if(n!=k):\n",
    "            print(\" \")\n",
    "            print(transfer_points[n][k])"
   ]
  },
  {
   "cell_type": "code",
   "execution_count": 433,
   "metadata": {
    "collapsed": false
   },
   "outputs": [
    {
     "name": "stdout",
     "output_type": "stream",
     "text": [
      " \n",
      "['Metro Center']\n",
      " \n",
      "['Metro Center']\n",
      " \n",
      "['Metro Center']\n"
     ]
    }
   ],
   "source": [
    "for n in getLineColors(\"Union Station\"):\n",
    "    for k in getLineColors(\"Potomac Ave\"):\n",
    "        if(n!=k):\n",
    "            print(\" \")\n",
    "            print(transfer_points[n][k]) "
   ]
  },
  {
   "cell_type": "code",
   "execution_count": null,
   "metadata": {
    "collapsed": false
   },
   "outputs": [],
   "source": []
  },
  {
   "cell_type": "code",
   "execution_count": null,
   "metadata": {
    "collapsed": false
   },
   "outputs": [],
   "source": []
  }
 ],
 "metadata": {
  "kernelspec": {
   "display_name": "Python [Root]",
   "language": "python",
   "name": "Python [Root]"
  },
  "language_info": {
   "codemirror_mode": {
    "name": "ipython",
    "version": 3
   },
   "file_extension": ".py",
   "mimetype": "text/x-python",
   "name": "python",
   "nbconvert_exporter": "python",
   "pygments_lexer": "ipython3",
   "version": "3.5.2"
  }
 },
 "nbformat": 4,
 "nbformat_minor": 0
}
