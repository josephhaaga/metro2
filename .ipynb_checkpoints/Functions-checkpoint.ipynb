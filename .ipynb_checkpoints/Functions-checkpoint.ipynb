{
 "cells": [
  {
   "cell_type": "code",
   "execution_count": 1,
   "metadata": {
    "collapsed": true
   },
   "outputs": [],
   "source": [
    "import json;\n",
    "import pandas as pd;\n",
    "import numpy as np;"
   ]
  },
  {
   "cell_type": "code",
   "execution_count": 2,
   "metadata": {
    "collapsed": false
   },
   "outputs": [],
   "source": [
    "paths = {}\n",
    "colors = ['Yellow','Blue','Red','Green','Silver','Orange']\n",
    "for c in colors:\n",
    "    paths[c] = pd.DataFrame(eval(json.load(open(c.lower()+\".txt\"))))\n",
    "    paths[c] = paths[c].sort_values(['SeqNum'])"
   ]
  },
  {
   "cell_type": "code",
   "execution_count": 3,
   "metadata": {
    "collapsed": true
   },
   "outputs": [],
   "source": [
    "def getLineColors(station):\n",
    "    colors = [];\n",
    "    for n in paths:\n",
    "        thisLine = paths[n];\n",
    "        if(len(thisLine[thisLine[\"StationName\"]==station]['LineCode'])>0):\n",
    "            colors.append(n)\n",
    "    return colors;"
   ]
  },
  {
   "cell_type": "code",
   "execution_count": 4,
   "metadata": {
    "collapsed": false
   },
   "outputs": [],
   "source": [
    "origin = 'U Street\\\\/African-Amer Civil War Memorial\\\\/Cardozo'\n",
    "destination = 'Braddock Road'"
   ]
  },
  {
   "cell_type": "code",
   "execution_count": 5,
   "metadata": {
    "collapsed": false
   },
   "outputs": [],
   "source": [
    "transfer_points = {};\n",
    "for n in colors:\n",
    "    transfer_points[n]={}\n",
    "    for k in colors:\n",
    "        if(k!=n):\n",
    "            transfer_points[n][k]=list(set(paths[n]['StationName']).intersection(set(paths[k]['StationName'])))"
   ]
  },
  {
   "cell_type": "code",
   "execution_count": 6,
   "metadata": {
    "collapsed": false,
    "scrolled": true
   },
   "outputs": [
    {
     "data": {
      "text/plain": [
       "{'Addison Road-Seat Pleasant': [],\n",
       " 'Anacostia': [],\n",
       " 'Archives-Navy Memorial-Penn Quarter': [],\n",
       " 'Arlington Cemetery': [],\n",
       " 'Ballston-MU': [],\n",
       " 'Benning Road': [],\n",
       " 'Bethesda': [],\n",
       " 'Braddock Road': [],\n",
       " 'Branch Ave': [],\n",
       " 'Brookland-CUA': [],\n",
       " 'Capitol Heights': [],\n",
       " 'Capitol South': [],\n",
       " 'Cheverly': [],\n",
       " 'Clarendon': [],\n",
       " 'Cleveland Park': [],\n",
       " 'College Park-U of MD': [],\n",
       " 'Columbia Heights': [],\n",
       " 'Congress Heights': [],\n",
       " 'Court House': [],\n",
       " 'Crystal City': [],\n",
       " 'Deanwood': [],\n",
       " 'Dunn Loring-Merrifield': [],\n",
       " 'Dupont Circle': [],\n",
       " 'East Falls Church': [],\n",
       " 'Eastern Market': [],\n",
       " 'Eisenhower Avenue': [],\n",
       " 'Farragut North': [],\n",
       " 'Farragut West': [],\n",
       " 'Federal Center SW': [],\n",
       " 'Federal Triangle': [],\n",
       " 'Foggy Bottom-GWU': [],\n",
       " 'Forest Glen': [],\n",
       " 'Fort Totten': [],\n",
       " 'Franconia-Springfield': [],\n",
       " 'Friendship Heights': [],\n",
       " 'Gallery Pl-Chinatown': [],\n",
       " 'Georgia Ave-Petworth': [],\n",
       " 'Glenmont': [],\n",
       " 'Greenbelt': [],\n",
       " 'Greensboro': [],\n",
       " 'Grosvenor-Strathmore': [],\n",
       " 'Huntington': [],\n",
       " 'Judiciary Square': [],\n",
       " 'King St-Old Town': [],\n",
       " \"L'Enfant Plaza\": [],\n",
       " 'Landover': [],\n",
       " 'Largo Town Center': [],\n",
       " 'McLean': [],\n",
       " 'McPherson Square': [],\n",
       " 'Medical Center': [],\n",
       " 'Metro Center': [],\n",
       " 'Minnesota Ave': [],\n",
       " 'Morgan Boulevard': [],\n",
       " 'Mt Vernon Sq 7th St-Convention Center': [],\n",
       " 'Navy Yard-Ballpark': [],\n",
       " 'Naylor Road': [],\n",
       " 'New Carrollton': [],\n",
       " 'NoMa-Gallaudet U': [],\n",
       " 'Pentagon': [],\n",
       " 'Pentagon City': [],\n",
       " 'Potomac Ave': [],\n",
       " \"Prince George's Plaza\": [],\n",
       " 'Rhode Island Ave-Brentwood': [],\n",
       " 'Rockville': [],\n",
       " 'Ronald Reagan Washington National Airport': [],\n",
       " 'Rosslyn': [],\n",
       " 'Shady Grove': [],\n",
       " 'Shaw-Howard U': [],\n",
       " 'Silver Spring': [],\n",
       " 'Smithsonian': [],\n",
       " 'Southern Avenue': [],\n",
       " 'Spring Hill': [],\n",
       " 'Stadium-Armory': [],\n",
       " 'Suitland': [],\n",
       " 'Takoma': [],\n",
       " 'Tenleytown-AU': [],\n",
       " 'Twinbrook': [],\n",
       " 'Tysons Corner': [],\n",
       " 'U Street\\\\/African-Amer Civil War Memorial\\\\/Cardozo': [],\n",
       " 'Union Station': [],\n",
       " 'Van Dorn Street': [],\n",
       " 'Van Ness-UDC': [],\n",
       " 'Vienna\\\\/Fairfax-GMU': [],\n",
       " 'Virginia Square-GMU': [],\n",
       " 'Waterfront': [],\n",
       " 'West Falls Church-VT\\\\/UVA': [],\n",
       " 'West Hyattsville': [],\n",
       " 'Wheaton': [],\n",
       " 'White Flint': [],\n",
       " 'Wiehle-Reston East': [],\n",
       " 'Woodley Park-Zoo\\\\/Adams Morgan': []}"
      ]
     },
     "execution_count": 6,
     "metadata": {},
     "output_type": "execute_result"
    }
   ],
   "source": [
    "graph = {};\n",
    "paths['Yellow']['StationName']\n",
    "\n",
    "for n in colors:\n",
    "    for p in paths[n]['StationName']:\n",
    "        graph[p]=[]\n",
    "graph"
   ]
  },
  {
   "cell_type": "code",
   "execution_count": 7,
   "metadata": {
    "collapsed": false
   },
   "outputs": [],
   "source": [
    "for z in graph.keys():\n",
    "    for j in getLineColors(z):\n",
    "        listOfStations = list(paths[j]['StationName'])\n",
    "        currentIndex = listOfStations.index(z);\n",
    "#         print (currentIndex)\n",
    "        if(currentIndex>0):\n",
    "#             set prev\n",
    "            graph[z].append(listOfStations[currentIndex-1]);\n",
    "        if(currentIndex<len(listOfStations)-1):\n",
    "            graph[z].append(listOfStations[currentIndex+1])\n",
    "    graph[z]=list(set(graph[z]))"
   ]
  },
  {
   "cell_type": "code",
   "execution_count": 8,
   "metadata": {
    "collapsed": false
   },
   "outputs": [],
   "source": [
    "\n",
    "# https://www.python.org/doc/essays/graphs/\n",
    "def find_all_paths(graph, start, end, path=[]):\n",
    "        path = path + [start]\n",
    "        if start == end:\n",
    "            return [path]\n",
    "        if not start in graph:\n",
    "            return []\n",
    "        paths = []\n",
    "        for node in graph[start]:\n",
    "            if node not in path:\n",
    "                newpaths = find_all_paths(graph, node, end, path)\n",
    "                for newpath in newpaths:\n",
    "                    paths.append(newpath)\n",
    "        return paths"
   ]
  },
  {
   "cell_type": "code",
   "execution_count": 10,
   "metadata": {
    "collapsed": false
   },
   "outputs": [],
   "source": [
    "possibleRoutes = find_all_paths(graph,origin,destination)"
   ]
  },
  {
   "cell_type": "code",
   "execution_count": 11,
   "metadata": {
    "collapsed": false
   },
   "outputs": [
    {
     "data": {
      "text/plain": [
       "8"
      ]
     },
     "execution_count": 11,
     "metadata": {},
     "output_type": "execute_result"
    }
   ],
   "source": [
    "len(possibleRoutes)"
   ]
  },
  {
   "cell_type": "code",
   "execution_count": 12,
   "metadata": {
    "collapsed": false
   },
   "outputs": [
    {
     "data": {
      "text/plain": [
       "['U Street\\\\/African-Amer Civil War Memorial\\\\/Cardozo',\n",
       " 'Shaw-Howard U',\n",
       " 'Mt Vernon Sq 7th St-Convention Center',\n",
       " 'Gallery Pl-Chinatown',\n",
       " 'Metro Center',\n",
       " 'Federal Triangle',\n",
       " 'Smithsonian',\n",
       " \"L'Enfant Plaza\",\n",
       " 'Pentagon',\n",
       " 'Pentagon City',\n",
       " 'Crystal City',\n",
       " 'Ronald Reagan Washington National Airport',\n",
       " 'Braddock Road']"
      ]
     },
     "execution_count": 12,
     "metadata": {},
     "output_type": "execute_result"
    }
   ],
   "source": [
    "possibleRoutes[0]"
   ]
  },
  {
   "cell_type": "code",
   "execution_count": 13,
   "metadata": {
    "collapsed": false
   },
   "outputs": [
    {
     "data": {
      "text/plain": [
       "['U Street\\\\/African-Amer Civil War Memorial\\\\/Cardozo',\n",
       " 'Shaw-Howard U',\n",
       " 'Mt Vernon Sq 7th St-Convention Center',\n",
       " 'Gallery Pl-Chinatown',\n",
       " 'Metro Center',\n",
       " 'McPherson Square',\n",
       " 'Farragut West',\n",
       " 'Foggy Bottom-GWU',\n",
       " 'Rosslyn',\n",
       " 'Arlington Cemetery',\n",
       " 'Pentagon',\n",
       " 'Pentagon City',\n",
       " 'Crystal City',\n",
       " 'Ronald Reagan Washington National Airport',\n",
       " 'Braddock Road']"
      ]
     },
     "execution_count": 13,
     "metadata": {},
     "output_type": "execute_result"
    }
   ],
   "source": [
    "possibleRoutes[1]"
   ]
  }
 ],
 "metadata": {
  "kernelspec": {
   "display_name": "Python [Root]",
   "language": "python",
   "name": "Python [Root]"
  },
  "language_info": {
   "codemirror_mode": {
    "name": "ipython",
    "version": 3
   },
   "file_extension": ".py",
   "mimetype": "text/x-python",
   "name": "python",
   "nbconvert_exporter": "python",
   "pygments_lexer": "ipython3",
   "version": "3.5.2"
  }
 },
 "nbformat": 4,
 "nbformat_minor": 0
}
