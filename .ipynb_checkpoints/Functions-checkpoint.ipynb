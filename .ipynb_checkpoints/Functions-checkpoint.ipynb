{
 "cells": [
  {
   "cell_type": "code",
   "execution_count": 29,
   "metadata": {
    "collapsed": true
   },
   "outputs": [],
   "source": [
    "import json;\n",
    "import pandas as pd;\n",
    "import numpy as np;"
   ]
  },
  {
   "cell_type": "code",
   "execution_count": 127,
   "metadata": {
    "collapsed": false
   },
   "outputs": [],
   "source": [
    "paths = {}\n",
    "colors = ['Yellow','Blue','Red','Green','Silver','Orange']\n",
    "for c in colors:\n",
    "    paths[c] = pd.DataFrame(eval(json.load(open(c.lower()+\".txt\"))))\n",
    "    paths[c] = paths[c].sort_values(['SeqNum'])"
   ]
  },
  {
   "cell_type": "code",
   "execution_count": 129,
   "metadata": {
    "collapsed": true
   },
   "outputs": [],
   "source": [
    "def getLineColors(station):\n",
    "    colors = [];\n",
    "    for n in paths:\n",
    "        thisLine = paths[n];\n",
    "        if(len(thisLine[thisLine[\"StationName\"]==station]['LineCode'])>0):\n",
    "            colors.append(n)\n",
    "    return colors;"
   ]
  },
  {
   "cell_type": "code",
   "execution_count": 130,
   "metadata": {
    "collapsed": false
   },
   "outputs": [
    {
     "data": {
      "text/plain": [
       "['Orange', 'Red', 'Blue', 'Silver']"
      ]
     },
     "execution_count": 130,
     "metadata": {},
     "output_type": "execute_result"
    }
   ],
   "source": [
    "getLineColors('Metro Center')"
   ]
  },
  {
   "cell_type": "code",
   "execution_count": 131,
   "metadata": {
    "collapsed": false
   },
   "outputs": [],
   "source": [
    "origin = 'U Street\\\\/African-Amer Civil War Memorial\\\\/Cardozo'\n",
    "destination = 'Braddock Road'"
   ]
  },
  {
   "cell_type": "code",
   "execution_count": 132,
   "metadata": {
    "collapsed": false
   },
   "outputs": [],
   "source": [
    "a=getLineColors(origin)"
   ]
  },
  {
   "cell_type": "code",
   "execution_count": 133,
   "metadata": {
    "collapsed": false
   },
   "outputs": [],
   "source": [
    "b=getLineColors(destination)"
   ]
  },
  {
   "cell_type": "code",
   "execution_count": 191,
   "metadata": {
    "collapsed": true
   },
   "outputs": [],
   "source": [
    "def getPossiblePaths(start,end):\n",
    "    path_possibilities = {};\n",
    "#     direct path, if it exists\n",
    "    sharedLines = list(set(getLineColors(start)).intersection(getLineColors(end)));\n",
    "    if(len(sharedLines)>0):\n",
    "        for n in sharedLines:\n",
    "            origin_index = int(list(paths[n][paths[n]['StationName']==start].index)[0])\n",
    "            destination_index = int(list(paths[n][paths[n]['StationName']==end].index)[0])\n",
    "            if(origin_index>destination_index):\n",
    "                the_path = list(paths[n].iloc[destination_index:origin_index+1]['StationName']);\n",
    "                the_path.reverse();\n",
    "                path_possibilities[n]=(the_path);\n",
    "            else:\n",
    "                path_possibilities[n] = (list(paths[n].iloc[origin_index:destination_index+1]['StationName']));\n",
    "                \n",
    "    return path_possibilities;"
   ]
  },
  {
   "cell_type": "code",
   "execution_count": 221,
   "metadata": {
    "collapsed": false
   },
   "outputs": [],
   "source": [
    "def findTransferPoints(start,destination):\n",
    "    possible_transfer_points = {};\n",
    "    start_lines = getLineColors(start);\n",
    "    dest_lines = getLineColors(destination);\n",
    "    for p in start_lines:\n",
    "        possible_transfer_points[p]={};\n",
    "        for q in dest_lines:\n",
    "            intersections = set(list(paths[p]['StationName'])).intersection(list(set(paths[q]['StationName'])))\n",
    "            if(p!=q):\n",
    "                possible_transfer_points[p][q] = (intersections);\n",
    "    return possible_transfer_points;"
   ]
  },
  {
   "cell_type": "code",
   "execution_count": 223,
   "metadata": {
    "collapsed": false
   },
   "outputs": [],
   "source": [
    "tfs = findTransferPoints(origin,destination)"
   ]
  },
  {
   "cell_type": "code",
   "execution_count": 228,
   "metadata": {
    "collapsed": false
   },
   "outputs": [
    {
     "data": {
      "text/plain": [
       "{'Blue': {\"L'Enfant Plaza\"},\n",
       " 'Yellow': {'Archives-Navy Memorial-Penn Quarter',\n",
       "  'Columbia Heights',\n",
       "  'Fort Totten',\n",
       "  'Gallery Pl-Chinatown',\n",
       "  'Georgia Ave-Petworth',\n",
       "  \"L'Enfant Plaza\",\n",
       "  'Mt Vernon Sq 7th St-Convention Center',\n",
       "  'Shaw-Howard U',\n",
       "  'U Street\\\\/African-Amer Civil War Memorial\\\\/Cardozo'}}"
      ]
     },
     "execution_count": 228,
     "metadata": {},
     "output_type": "execute_result"
    }
   ],
   "source": [
    "tfs['Green']"
   ]
  },
  {
   "cell_type": "code",
   "execution_count": 230,
   "metadata": {
    "collapsed": false
   },
   "outputs": [
    {
     "data": {
      "text/plain": [
       "{'Blue': {'Green': {\"L'Enfant Plaza\"}},\n",
       " 'Orange': {'Green': {\"L'Enfant Plaza\"}},\n",
       " 'Red': {'Green': {'Fort Totten', 'Gallery Pl-Chinatown'}},\n",
       " 'Silver': {'Green': {\"L'Enfant Plaza\"}}}"
      ]
     },
     "execution_count": 230,
     "metadata": {},
     "output_type": "execute_result"
    }
   ],
   "source": [
    "findTransferPoints('Metro Center','Waterfront')"
   ]
  },
  {
   "cell_type": "code",
   "execution_count": 232,
   "metadata": {
    "collapsed": false
   },
   "outputs": [
    {
     "data": {
      "text/plain": [
       "{'Red': {'Blue': {'Metro Center'},\n",
       "  'Orange': {'Metro Center'},\n",
       "  'Silver': {'Metro Center'}}}"
      ]
     },
     "execution_count": 232,
     "metadata": {},
     "output_type": "execute_result"
    }
   ],
   "source": [
    "findTransferPoints('Union Station','Potomac Ave')\n",
    "# This should show Gallery Pl -> L'Enfant Plaza"
   ]
  },
  {
   "cell_type": "code",
   "execution_count": 387,
   "metadata": {
    "collapsed": false
   },
   "outputs": [],
   "source": [
    "def findDoubleTransferPoints(start,destination):\n",
    "    temp_result = [];\n",
    "    possible_transfer_points = {};\n",
    "    startLineStations = list(set([k for k in paths[n]['StationName'] for n in getLineColors(start)]))\n",
    "    destLineStations = list(set([g for g in paths[q]['StationName'] for q in getLineColors(destination)]))\n",
    "#     return stations on origin_line that share a line color with any of the stations on dest_line\n",
    "    startLineStationColors = {station:getLineColors(station) for station in startLineStations}\n",
    "    destLineStationColors = {station:getLineColors(station) for station in destLineStations}\n",
    "    return (startLineStationColors,destLineStationColors)\n",
    "\n",
    "            "
   ]
  },
  {
   "cell_type": "code",
   "execution_count": 389,
   "metadata": {
    "collapsed": false
   },
   "outputs": [],
   "source": [
    "starts = findDoubleTransferPoints(\"Union Station\",\"Potomac Ave\")[0]\n",
    "dests = findDoubleTransferPoints(\"Union Station\",\"Potomac Ave\")[1]"
   ]
  },
  {
   "cell_type": "code",
   "execution_count": 417,
   "metadata": {
    "collapsed": false
   },
   "outputs": [
    {
     "data": {
      "text/plain": [
       "{'Blue', 'Green', 'Orange', 'Red', 'Silver', 'Yellow'}"
      ]
     },
     "execution_count": 417,
     "metadata": {},
     "output_type": "execute_result"
    }
   ],
   "source": [
    "flat = []\n",
    "for k in list(starts.values()):\n",
    "    for g in k:\n",
    "        flat.append(g)\n",
    "set(flat)"
   ]
  },
  {
   "cell_type": "code",
   "execution_count": 421,
   "metadata": {
    "collapsed": false
   },
   "outputs": [
    {
     "data": {
      "text/plain": [
       "{'Metro Center'}"
      ]
     },
     "execution_count": 421,
     "metadata": {},
     "output_type": "execute_result"
    }
   ],
   "source": [
    "set(paths['Red']['StationName']).intersection(set(paths['Blue']['StationName']))"
   ]
  },
  {
   "cell_type": "code",
   "execution_count": 438,
   "metadata": {
    "collapsed": false
   },
   "outputs": [],
   "source": [
    "transfer_points = {};\n",
    "for n in colors:\n",
    "    transfer_points[n]={}\n",
    "    for k in colors:\n",
    "        if(k!=n):\n",
    "            transfer_points[n][k]=list(set(paths[n]['StationName']).intersection(set(paths[k]['StationName'])))"
   ]
  },
  {
   "cell_type": "code",
   "execution_count": 426,
   "metadata": {
    "collapsed": false
   },
   "outputs": [
    {
     "data": {
      "text/plain": [
       "{'Blue': {'Green': [\"L'Enfant Plaza\"],\n",
       "  'Orange': ['Potomac Ave',\n",
       "   \"L'Enfant Plaza\",\n",
       "   'McPherson Square',\n",
       "   'Farragut West',\n",
       "   'Capitol South',\n",
       "   'Smithsonian',\n",
       "   'Foggy Bottom-GWU',\n",
       "   'Rosslyn',\n",
       "   'Eastern Market',\n",
       "   'Stadium-Armory',\n",
       "   'Federal Center SW',\n",
       "   'Federal Triangle',\n",
       "   'Metro Center'],\n",
       "  'Red': ['Metro Center'],\n",
       "  'Silver': ['Potomac Ave',\n",
       "   \"L'Enfant Plaza\",\n",
       "   'McPherson Square',\n",
       "   'Morgan Boulevard',\n",
       "   'Farragut West',\n",
       "   'Capitol South',\n",
       "   'Smithsonian',\n",
       "   'Addison Road-Seat Pleasant',\n",
       "   'Foggy Bottom-GWU',\n",
       "   'Rosslyn',\n",
       "   'Benning Road',\n",
       "   'Eastern Market',\n",
       "   'Stadium-Armory',\n",
       "   'Federal Center SW',\n",
       "   'Capitol Heights',\n",
       "   'Largo Town Center',\n",
       "   'Federal Triangle',\n",
       "   'Metro Center'],\n",
       "  'Yellow': ['Braddock Road',\n",
       "   \"L'Enfant Plaza\",\n",
       "   'Pentagon City',\n",
       "   'Crystal City',\n",
       "   'King St-Old Town',\n",
       "   'Ronald Reagan Washington National Airport',\n",
       "   'Pentagon']},\n",
       " 'Green': {'Blue': [\"L'Enfant Plaza\"],\n",
       "  'Orange': [\"L'Enfant Plaza\"],\n",
       "  'Red': ['Fort Totten', 'Gallery Pl-Chinatown'],\n",
       "  'Silver': [\"L'Enfant Plaza\"],\n",
       "  'Yellow': ['Archives-Navy Memorial-Penn Quarter',\n",
       "   \"L'Enfant Plaza\",\n",
       "   'Georgia Ave-Petworth',\n",
       "   'Columbia Heights',\n",
       "   'Shaw-Howard U',\n",
       "   'Fort Totten',\n",
       "   'Mt Vernon Sq 7th St-Convention Center',\n",
       "   'U Street\\\\/African-Amer Civil War Memorial\\\\/Cardozo',\n",
       "   'Gallery Pl-Chinatown']},\n",
       " 'Orange': {'Blue': ['Potomac Ave',\n",
       "   \"L'Enfant Plaza\",\n",
       "   'McPherson Square',\n",
       "   'Farragut West',\n",
       "   'Capitol South',\n",
       "   'Smithsonian',\n",
       "   'Foggy Bottom-GWU',\n",
       "   'Rosslyn',\n",
       "   'Eastern Market',\n",
       "   'Stadium-Armory',\n",
       "   'Federal Center SW',\n",
       "   'Federal Triangle',\n",
       "   'Metro Center'],\n",
       "  'Green': [\"L'Enfant Plaza\"],\n",
       "  'Red': ['Metro Center'],\n",
       "  'Silver': ['East Falls Church',\n",
       "   'Virginia Square-GMU',\n",
       "   'Potomac Ave',\n",
       "   \"L'Enfant Plaza\",\n",
       "   'McPherson Square',\n",
       "   'Farragut West',\n",
       "   'Capitol South',\n",
       "   'Smithsonian',\n",
       "   'Ballston-MU',\n",
       "   'Foggy Bottom-GWU',\n",
       "   'Court House',\n",
       "   'Rosslyn',\n",
       "   'Eastern Market',\n",
       "   'Stadium-Armory',\n",
       "   'Clarendon',\n",
       "   'Federal Center SW',\n",
       "   'Federal Triangle',\n",
       "   'Metro Center'],\n",
       "  'Yellow': [\"L'Enfant Plaza\"]},\n",
       " 'Red': {'Blue': ['Metro Center'],\n",
       "  'Green': ['Fort Totten', 'Gallery Pl-Chinatown'],\n",
       "  'Orange': ['Metro Center'],\n",
       "  'Silver': ['Metro Center'],\n",
       "  'Yellow': ['Fort Totten', 'Gallery Pl-Chinatown']},\n",
       " 'Silver': {'Blue': ['Potomac Ave',\n",
       "   \"L'Enfant Plaza\",\n",
       "   'McPherson Square',\n",
       "   'Morgan Boulevard',\n",
       "   'Farragut West',\n",
       "   'Capitol South',\n",
       "   'Smithsonian',\n",
       "   'Addison Road-Seat Pleasant',\n",
       "   'Foggy Bottom-GWU',\n",
       "   'Rosslyn',\n",
       "   'Benning Road',\n",
       "   'Eastern Market',\n",
       "   'Stadium-Armory',\n",
       "   'Federal Center SW',\n",
       "   'Capitol Heights',\n",
       "   'Largo Town Center',\n",
       "   'Federal Triangle',\n",
       "   'Metro Center'],\n",
       "  'Green': [\"L'Enfant Plaza\"],\n",
       "  'Orange': ['East Falls Church',\n",
       "   'Virginia Square-GMU',\n",
       "   'Potomac Ave',\n",
       "   \"L'Enfant Plaza\",\n",
       "   'McPherson Square',\n",
       "   'Farragut West',\n",
       "   'Capitol South',\n",
       "   'Smithsonian',\n",
       "   'Ballston-MU',\n",
       "   'Foggy Bottom-GWU',\n",
       "   'Court House',\n",
       "   'Rosslyn',\n",
       "   'Eastern Market',\n",
       "   'Stadium-Armory',\n",
       "   'Clarendon',\n",
       "   'Federal Center SW',\n",
       "   'Federal Triangle',\n",
       "   'Metro Center'],\n",
       "  'Red': ['Metro Center'],\n",
       "  'Yellow': [\"L'Enfant Plaza\"]},\n",
       " 'Yellow': {'Blue': ['Braddock Road',\n",
       "   \"L'Enfant Plaza\",\n",
       "   'Pentagon City',\n",
       "   'Crystal City',\n",
       "   'King St-Old Town',\n",
       "   'Ronald Reagan Washington National Airport',\n",
       "   'Pentagon'],\n",
       "  'Green': ['Archives-Navy Memorial-Penn Quarter',\n",
       "   \"L'Enfant Plaza\",\n",
       "   'Georgia Ave-Petworth',\n",
       "   'Columbia Heights',\n",
       "   'Shaw-Howard U',\n",
       "   'Fort Totten',\n",
       "   'Mt Vernon Sq 7th St-Convention Center',\n",
       "   'U Street\\\\/African-Amer Civil War Memorial\\\\/Cardozo',\n",
       "   'Gallery Pl-Chinatown'],\n",
       "  'Orange': [\"L'Enfant Plaza\"],\n",
       "  'Red': ['Fort Totten', 'Gallery Pl-Chinatown'],\n",
       "  'Silver': [\"L'Enfant Plaza\"]}}"
      ]
     },
     "execution_count": 426,
     "metadata": {},
     "output_type": "execute_result"
    }
   ],
   "source": [
    "transfer_points"
   ]
  },
  {
   "cell_type": "code",
   "execution_count": 437,
   "metadata": {
    "collapsed": false
   },
   "outputs": [
    {
     "name": "stdout",
     "output_type": "stream",
     "text": [
      " \n",
      "[\"L'Enfant Plaza\"]\n",
      " \n",
      "[\"L'Enfant Plaza\"]\n",
      " \n",
      "[\"L'Enfant Plaza\"]\n"
     ]
    }
   ],
   "source": [
    "for n in getLineColors(start):\n",
    "    for k in getLineColors(destination):\n",
    "        if(n!=k):\n",
    "            print(\" \")\n",
    "            print(transfer_points[n][k])"
   ]
  },
  {
   "cell_type": "code",
   "execution_count": 448,
   "metadata": {
    "collapsed": false
   },
   "outputs": [
    {
     "name": "stdout",
     "output_type": "stream",
     "text": [
      " \n",
      "['Metro Center']\n",
      " \n",
      "['Metro Center']\n",
      " \n",
      "['Metro Center']\n"
     ]
    }
   ],
   "source": [
    "for n in getLineColors(\"Union Station\"):\n",
    "    for k in getLineColors(\"Potomac Ave\"):\n",
    "        if(n!=k):\n",
    "            print(\" \")\n",
    "            print(transfer_points[n][k]) "
   ]
  },
  {
   "cell_type": "code",
   "execution_count": 465,
   "metadata": {
    "collapsed": false
   },
   "outputs": [
    {
     "data": {
      "text/plain": [
       "{'Addison Road-Seat Pleasant': [],\n",
       " 'Anacostia': [],\n",
       " 'Archives-Navy Memorial-Penn Quarter': [],\n",
       " 'Arlington Cemetery': [],\n",
       " 'Ballston-MU': [],\n",
       " 'Benning Road': [],\n",
       " 'Bethesda': [],\n",
       " 'Braddock Road': [],\n",
       " 'Branch Ave': [],\n",
       " 'Brookland-CUA': [],\n",
       " 'Capitol Heights': [],\n",
       " 'Capitol South': [],\n",
       " 'Cheverly': [],\n",
       " 'Clarendon': [],\n",
       " 'Cleveland Park': [],\n",
       " 'College Park-U of MD': [],\n",
       " 'Columbia Heights': [],\n",
       " 'Congress Heights': [],\n",
       " 'Court House': [],\n",
       " 'Crystal City': [],\n",
       " 'Deanwood': [],\n",
       " 'Dunn Loring-Merrifield': [],\n",
       " 'Dupont Circle': [],\n",
       " 'East Falls Church': [],\n",
       " 'Eastern Market': [],\n",
       " 'Eisenhower Avenue': [],\n",
       " 'Farragut North': [],\n",
       " 'Farragut West': [],\n",
       " 'Federal Center SW': [],\n",
       " 'Federal Triangle': [],\n",
       " 'Foggy Bottom-GWU': [],\n",
       " 'Forest Glen': [],\n",
       " 'Fort Totten': [],\n",
       " 'Franconia-Springfield': [],\n",
       " 'Friendship Heights': [],\n",
       " 'Gallery Pl-Chinatown': [],\n",
       " 'Georgia Ave-Petworth': [],\n",
       " 'Glenmont': [],\n",
       " 'Greenbelt': [],\n",
       " 'Greensboro': [],\n",
       " 'Grosvenor-Strathmore': [],\n",
       " 'Huntington': [],\n",
       " 'Judiciary Square': [],\n",
       " 'King St-Old Town': [],\n",
       " \"L'Enfant Plaza\": [],\n",
       " 'Landover': [],\n",
       " 'Largo Town Center': [],\n",
       " 'McLean': [],\n",
       " 'McPherson Square': [],\n",
       " 'Medical Center': [],\n",
       " 'Metro Center': [],\n",
       " 'Minnesota Ave': [],\n",
       " 'Morgan Boulevard': [],\n",
       " 'Mt Vernon Sq 7th St-Convention Center': [],\n",
       " 'Navy Yard-Ballpark': [],\n",
       " 'Naylor Road': [],\n",
       " 'New Carrollton': [],\n",
       " 'NoMa-Gallaudet U': [],\n",
       " 'Pentagon': [],\n",
       " 'Pentagon City': [],\n",
       " 'Potomac Ave': [],\n",
       " \"Prince George's Plaza\": [],\n",
       " 'Rhode Island Ave-Brentwood': [],\n",
       " 'Rockville': [],\n",
       " 'Ronald Reagan Washington National Airport': [],\n",
       " 'Rosslyn': [],\n",
       " 'Shady Grove': [],\n",
       " 'Shaw-Howard U': [],\n",
       " 'Silver Spring': [],\n",
       " 'Smithsonian': [],\n",
       " 'Southern Avenue': [],\n",
       " 'Spring Hill': [],\n",
       " 'Stadium-Armory': [],\n",
       " 'Suitland': [],\n",
       " 'Takoma': [],\n",
       " 'Tenleytown-AU': [],\n",
       " 'Twinbrook': [],\n",
       " 'Tysons Corner': [],\n",
       " 'U Street\\\\/African-Amer Civil War Memorial\\\\/Cardozo': [],\n",
       " 'Union Station': [],\n",
       " 'Van Dorn Street': [],\n",
       " 'Van Ness-UDC': [],\n",
       " 'Vienna\\\\/Fairfax-GMU': [],\n",
       " 'Virginia Square-GMU': [],\n",
       " 'Waterfront': [],\n",
       " 'West Falls Church-VT\\\\/UVA': [],\n",
       " 'West Hyattsville': [],\n",
       " 'Wheaton': [],\n",
       " 'White Flint': [],\n",
       " 'Wiehle-Reston East': [],\n",
       " 'Woodley Park-Zoo\\\\/Adams Morgan': []}"
      ]
     },
     "execution_count": 465,
     "metadata": {},
     "output_type": "execute_result"
    }
   ],
   "source": [
    "graph = {};\n",
    "paths['Yellow']['StationName']\n",
    "\n",
    "for n in colors:\n",
    "    for p in paths[n]['StationName']:\n",
    "        graph[p]=[]\n",
    "graph"
   ]
  },
  {
   "cell_type": "code",
   "execution_count": 473,
   "metadata": {
    "collapsed": false
   },
   "outputs": [],
   "source": [
    "for z in graph.keys():\n",
    "    for j in getLineColors(z):\n",
    "        listOfStations = list(paths[j]['StationName'])\n",
    "        currentIndex = listOfStations.index(z);\n",
    "#         print (currentIndex)\n",
    "        if(currentIndex>0):\n",
    "#             set prev\n",
    "            graph[z].append(listOfStations[currentIndex-1]);\n",
    "        if(currentIndex<len(listOfStations)-1):\n",
    "            graph[z].append(listOfStations[currentIndex+1])\n",
    "    graph[z]=list(set(graph[z]))"
   ]
  },
  {
   "cell_type": "code",
   "execution_count": 474,
   "metadata": {
    "collapsed": false
   },
   "outputs": [
    {
     "data": {
      "text/plain": [
       "{'Addison Road-Seat Pleasant': ['Morgan Boulevard', 'Capitol Heights'],\n",
       " 'Anacostia': ['Congress Heights', 'Navy Yard-Ballpark'],\n",
       " 'Archives-Navy Memorial-Penn Quarter': [\"L'Enfant Plaza\",\n",
       "  'Gallery Pl-Chinatown'],\n",
       " 'Arlington Cemetery': ['Pentagon', 'Rosslyn'],\n",
       " 'Ballston-MU': ['East Falls Church', 'Virginia Square-GMU'],\n",
       " 'Benning Road': ['Stadium-Armory', 'Capitol Heights'],\n",
       " 'Bethesda': ['Friendship Heights', 'Medical Center'],\n",
       " 'Braddock Road': ['King St-Old Town',\n",
       "  'Ronald Reagan Washington National Airport'],\n",
       " 'Branch Ave': ['Suitland'],\n",
       " 'Brookland-CUA': ['Rhode Island Ave-Brentwood', 'Fort Totten'],\n",
       " 'Capitol Heights': ['Benning Road', 'Addison Road-Seat Pleasant'],\n",
       " 'Capitol South': ['Eastern Market', 'Federal Center SW'],\n",
       " 'Cheverly': ['Deanwood', 'Landover'],\n",
       " 'Clarendon': ['Court House', 'Virginia Square-GMU'],\n",
       " 'Cleveland Park': ['Van Ness-UDC', 'Woodley Park-Zoo\\\\/Adams Morgan'],\n",
       " 'College Park-U of MD': [\"Prince George's Plaza\", 'Greenbelt'],\n",
       " 'Columbia Heights': ['Georgia Ave-Petworth',\n",
       "  'U Street\\\\/African-Amer Civil War Memorial\\\\/Cardozo'],\n",
       " 'Congress Heights': ['Anacostia', 'Southern Avenue'],\n",
       " 'Court House': ['Clarendon', 'Rosslyn'],\n",
       " 'Crystal City': ['Pentagon City',\n",
       "  'Ronald Reagan Washington National Airport'],\n",
       " 'Deanwood': ['Cheverly', 'Minnesota Ave'],\n",
       " 'Dunn Loring-Merrifield': ['West Falls Church-VT\\\\/UVA',\n",
       "  'Vienna\\\\/Fairfax-GMU'],\n",
       " 'Dupont Circle': ['Farragut North', 'Woodley Park-Zoo\\\\/Adams Morgan'],\n",
       " 'East Falls Church': ['West Falls Church-VT\\\\/UVA', 'McLean', 'Ballston-MU'],\n",
       " 'Eastern Market': ['Capitol South', 'Potomac Ave'],\n",
       " 'Eisenhower Avenue': ['Huntington', 'King St-Old Town'],\n",
       " 'Farragut North': ['Dupont Circle', 'Metro Center'],\n",
       " 'Farragut West': ['McPherson Square', 'Foggy Bottom-GWU'],\n",
       " 'Federal Center SW': ['Capitol South', \"L'Enfant Plaza\"],\n",
       " 'Federal Triangle': ['Smithsonian', 'Metro Center'],\n",
       " 'Foggy Bottom-GWU': ['Rosslyn', 'Farragut West'],\n",
       " 'Forest Glen': ['Silver Spring', 'Wheaton'],\n",
       " 'Fort Totten': ['West Hyattsville',\n",
       "  'Georgia Ave-Petworth',\n",
       "  'Brookland-CUA',\n",
       "  'Takoma'],\n",
       " 'Franconia-Springfield': ['Van Dorn Street'],\n",
       " 'Friendship Heights': ['Tenleytown-AU', 'Bethesda'],\n",
       " 'Gallery Pl-Chinatown': ['Judiciary Square',\n",
       "  'Archives-Navy Memorial-Penn Quarter',\n",
       "  'Mt Vernon Sq 7th St-Convention Center',\n",
       "  'Metro Center'],\n",
       " 'Georgia Ave-Petworth': ['Fort Totten', 'Columbia Heights'],\n",
       " 'Glenmont': ['Wheaton'],\n",
       " 'Greenbelt': ['College Park-U of MD'],\n",
       " 'Greensboro': ['Tysons Corner', 'Spring Hill'],\n",
       " 'Grosvenor-Strathmore': ['White Flint', 'Medical Center'],\n",
       " 'Huntington': ['Eisenhower Avenue'],\n",
       " 'Judiciary Square': ['Union Station', 'Gallery Pl-Chinatown'],\n",
       " 'King St-Old Town': ['Eisenhower Avenue', 'Braddock Road', 'Van Dorn Street'],\n",
       " \"L'Enfant Plaza\": ['Smithsonian',\n",
       "  'Pentagon',\n",
       "  'Waterfront',\n",
       "  'Federal Center SW',\n",
       "  'Archives-Navy Memorial-Penn Quarter'],\n",
       " 'Landover': ['Cheverly', 'New Carrollton'],\n",
       " 'Largo Town Center': ['Morgan Boulevard'],\n",
       " 'McLean': ['Tysons Corner', 'East Falls Church'],\n",
       " 'McPherson Square': ['Metro Center', 'Farragut West'],\n",
       " 'Medical Center': ['Grosvenor-Strathmore', 'Bethesda'],\n",
       " 'Metro Center': ['Farragut North',\n",
       "  'Federal Triangle',\n",
       "  'McPherson Square',\n",
       "  'Gallery Pl-Chinatown'],\n",
       " 'Minnesota Ave': ['Stadium-Armory', 'Deanwood'],\n",
       " 'Morgan Boulevard': ['Largo Town Center', 'Addison Road-Seat Pleasant'],\n",
       " 'Mt Vernon Sq 7th St-Convention Center': ['Shaw-Howard U',\n",
       "  'Gallery Pl-Chinatown'],\n",
       " 'Navy Yard-Ballpark': ['Anacostia', 'Waterfront'],\n",
       " 'Naylor Road': ['Southern Avenue', 'Suitland'],\n",
       " 'New Carrollton': ['Landover'],\n",
       " 'NoMa-Gallaudet U': ['Union Station', 'Rhode Island Ave-Brentwood'],\n",
       " 'Pentagon': ['Arlington Cemetery', \"L'Enfant Plaza\", 'Pentagon City'],\n",
       " 'Pentagon City': ['Pentagon', 'Crystal City'],\n",
       " 'Potomac Ave': ['Eastern Market', 'Stadium-Armory'],\n",
       " \"Prince George's Plaza\": ['West Hyattsville', 'College Park-U of MD'],\n",
       " 'Rhode Island Ave-Brentwood': ['Brookland-CUA', 'NoMa-Gallaudet U'],\n",
       " 'Rockville': ['Shady Grove', 'Twinbrook'],\n",
       " 'Ronald Reagan Washington National Airport': ['Braddock Road',\n",
       "  'Crystal City'],\n",
       " 'Rosslyn': ['Court House', 'Arlington Cemetery', 'Foggy Bottom-GWU'],\n",
       " 'Shady Grove': ['Rockville'],\n",
       " 'Shaw-Howard U': ['Mt Vernon Sq 7th St-Convention Center',\n",
       "  'U Street\\\\/African-Amer Civil War Memorial\\\\/Cardozo'],\n",
       " 'Silver Spring': ['Forest Glen', 'Takoma'],\n",
       " 'Smithsonian': ['Federal Triangle', \"L'Enfant Plaza\"],\n",
       " 'Southern Avenue': ['Congress Heights', 'Naylor Road'],\n",
       " 'Spring Hill': ['Greensboro', 'Wiehle-Reston East'],\n",
       " 'Stadium-Armory': ['Potomac Ave', 'Minnesota Ave', 'Benning Road'],\n",
       " 'Suitland': ['Branch Ave', 'Naylor Road'],\n",
       " 'Takoma': ['Silver Spring', 'Fort Totten'],\n",
       " 'Tenleytown-AU': ['Friendship Heights', 'Van Ness-UDC'],\n",
       " 'Twinbrook': ['White Flint', 'Rockville'],\n",
       " 'Tysons Corner': ['McLean', 'Greensboro'],\n",
       " 'U Street\\\\/African-Amer Civil War Memorial\\\\/Cardozo': ['Columbia Heights',\n",
       "  'Shaw-Howard U'],\n",
       " 'Union Station': ['Judiciary Square', 'NoMa-Gallaudet U'],\n",
       " 'Van Dorn Street': ['King St-Old Town', 'Franconia-Springfield'],\n",
       " 'Van Ness-UDC': ['Tenleytown-AU', 'Cleveland Park'],\n",
       " 'Vienna\\\\/Fairfax-GMU': ['Dunn Loring-Merrifield'],\n",
       " 'Virginia Square-GMU': ['Clarendon', 'Ballston-MU'],\n",
       " 'Waterfront': [\"L'Enfant Plaza\", 'Navy Yard-Ballpark'],\n",
       " 'West Falls Church-VT\\\\/UVA': ['East Falls Church', 'Dunn Loring-Merrifield'],\n",
       " 'West Hyattsville': [\"Prince George's Plaza\", 'Fort Totten'],\n",
       " 'Wheaton': ['Forest Glen', 'Glenmont'],\n",
       " 'White Flint': ['Twinbrook', 'Grosvenor-Strathmore'],\n",
       " 'Wiehle-Reston East': ['Spring Hill'],\n",
       " 'Woodley Park-Zoo\\\\/Adams Morgan': ['Dupont Circle', 'Cleveland Park']}"
      ]
     },
     "execution_count": 474,
     "metadata": {},
     "output_type": "execute_result"
    }
   ],
   "source": [
    "graph"
   ]
  },
  {
   "cell_type": "code",
   "execution_count": null,
   "metadata": {
    "collapsed": false
   },
   "outputs": [],
   "source": [
    "\n",
    "# https://www.python.org/doc/essays/graphs/\n",
    "def find_all_paths(graph, start, end, path=[]):\n",
    "        path = path + [start]\n",
    "        if start == end:\n",
    "            return [path]\n",
    "        if not graph.has_key(start):\n",
    "            return []\n",
    "        paths = []\n",
    "        for node in graph[start]:\n",
    "            if node not in path:\n",
    "                newpaths = find_all_paths(graph, node, end, path)\n",
    "                for newpath in newpaths:\n",
    "                    paths.append(newpath)\n",
    "        return paths"
   ]
  },
  {
   "cell_type": "code",
   "execution_count": null,
   "metadata": {
    "collapsed": false
   },
   "outputs": [],
   "source": []
  }
 ],
 "metadata": {
  "kernelspec": {
   "display_name": "Python [Root]",
   "language": "python",
   "name": "Python [Root]"
  },
  "language_info": {
   "codemirror_mode": {
    "name": "ipython",
    "version": 3
   },
   "file_extension": ".py",
   "mimetype": "text/x-python",
   "name": "python",
   "nbconvert_exporter": "python",
   "pygments_lexer": "ipython3",
   "version": "3.5.2"
  }
 },
 "nbformat": 4,
 "nbformat_minor": 0
}
